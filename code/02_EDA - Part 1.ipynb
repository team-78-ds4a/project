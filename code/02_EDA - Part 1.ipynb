{
 "cells": [
  {
   "cell_type": "markdown",
   "metadata": {},
   "source": [
    "# Exploratory data analysis - Part 1"
   ]
  },
  {
   "cell_type": "markdown",
   "metadata": {},
   "source": [
    "## Introduction\n",
    "\n",
    "K2 engineering is an enterprise that makes consulting especially on environmental issues. At this moment K2  is interested in understanding and  predicting noise. Noise is an important variable that affects city planning, wild life, and human health. \n",
    "\n",
    "K2 has many stations which are used to measure noise and in some cases other environmental variables. So they have delivered us several csv files with information from the monitoring of environmental noise from various sectors of the city of Bogotá, which must be analyzed to meet the proposed objective: understand environmental noise and predict it.\n",
    "\n",
    "To start with our exploratory data analysis we go:\n",
    "\n",
    "* [Load data](#Load-integrated-and-available-information): Load information merged and available..\n",
    "* [Report with Pandas Profiling](#Report-with-Pandas-Profiling): Exploratory Data Analysis with Pandas Profiling with a sample of the data.\n",
    "* [Duplicates](#Duplicates): Identify and remove duplicates.\n",
    "* [Basic Statistical Summary](#Statistical-Summary): Basic statistical summary applied over the entire dataset.\n",
    "* [Outliers](#Outliers): Identifying information with outliers equal to zero or less.\n",
    "* [Missing Values](#Missing-Values): Identify and manage missing values.\n",
    "* [Information distribution over time](#Information-distribution-over-time)\n",
    "* [Cleaning 2](#Cleaning-2): Restrict the information to use by period and evaluate possible subsets of data based on the findings.\n",
    "* [Data subsets](#Data-subsets): Basic statistical summary (average, minimum, maximum, maximum-minimum variation and median) general and by station by time groups.\n"
   ]
  },
  {
   "cell_type": "code",
   "execution_count": 1,
   "metadata": {},
   "outputs": [],
   "source": [
    "import pandas as pd\n",
    "import numpy as np\n",
    "import pandas_profiling\n",
    "from datetime import datetime\n",
    "import matplotlib.pyplot as plt\n",
    "import seaborn as sns\n",
    "import missingno as msno\n",
    "pd.options.display.float_format = '{:,.2f}'.format"
   ]
  },
  {
   "cell_type": "markdown",
   "metadata": {},
   "source": [
    "***"
   ]
  },
  {
   "cell_type": "markdown",
   "metadata": {},
   "source": [
    "\n",
    "## Load information merged and available."
   ]
  },
  {
   "cell_type": "markdown",
   "metadata": {},
   "source": [
    "### Ambient noise measurements\n",
    "\n",
    "Information with variables recorded in environmental noise monitoring stations:"
   ]
  },
  {
   "cell_type": "code",
   "execution_count": 2,
   "metadata": {},
   "outputs": [
    {
     "data": {
      "text/plain": [
       "Estación                object\n",
       "Variable              category\n",
       "Componente            category\n",
       "Fecha           datetime64[ns]\n",
       "Valor                  float64\n",
       "Ponderación           category\n",
       "Tipo                    object\n",
       "Year                     int64\n",
       "Month                 category\n",
       "Week                     int64\n",
       "Hour                     int64\n",
       "Day                   category\n",
       "Date_no_hour    datetime64[ns]\n",
       "Minuto                   int64\n",
       "dtype: object"
      ]
     },
     "execution_count": 2,
     "metadata": {},
     "output_type": "execute_result"
    }
   ],
   "source": [
    "source_data_df = pd.read_csv('../data/cleaned_data/clean_sda_aerocivil_date_v0.csv', \n",
    "                             header=0\n",
    "                             , dtype = {'Variable':'category'\n",
    "                                       ,'Componente':'category'\n",
    "                                       ,'Ponderación':'category'\n",
    "                                       ,'Day': 'category'\n",
    "                                       ,'Month':'category'}\n",
    "                             ,parse_dates=['Fecha','Date_no_hour']                                       \n",
    "                             , encoding='utf_8'\n",
    "                             ,sep =';')\n",
    "source_data_df.dtypes"
   ]
  },
  {
   "cell_type": "markdown",
   "metadata": {},
   "source": [
    "### Geographical location of monitoring stations"
   ]
  },
  {
   "cell_type": "code",
   "execution_count": 3,
   "metadata": {},
   "outputs": [
    {
     "data": {
      "text/plain": [
       "Estación         object\n",
       "nombre corto     object\n",
       "latitud         float64\n",
       "longitud        float64\n",
       "altitud         float64\n",
       "altura suelo    float64\n",
       "Origen           object\n",
       "dtype: object"
      ]
     },
     "execution_count": 3,
     "metadata": {},
     "output_type": "execute_result"
    }
   ],
   "source": [
    "lat_long_stations = pd.read_csv('../data/cleaned_data/lat_long_stations.csv'\n",
    "                                ,sep =';'\n",
    "                                ,dtype={ 'longitud':float,'altitud':float}\n",
    "                                , encoding='utf-8')\n",
    "lat_long_stations = lat_long_stations[['Estación', 'nombre corto', 'latitud', 'longitud','altitud', 'altura suelo', 'Origen']]\n",
    "lat_long_stations.dtypes"
   ]
  },
  {
   "cell_type": "markdown",
   "metadata": {},
   "source": [
    "***"
   ]
  },
  {
   "cell_type": "markdown",
   "metadata": {},
   "source": [
    "## Report with Pandas Profiling"
   ]
  },
  {
   "cell_type": "markdown",
   "metadata": {},
   "source": [
    "To give us a general idea of the content of the available data, we generate an example of 50% of the data and supported by the pandas profiling tool we generate an HTML report:"
   ]
  },
  {
   "cell_type": "code",
   "execution_count": 5,
   "metadata": {},
   "outputs": [],
   "source": [
    "df_sample =source_data_df.sample(frac=0.5, random_state= 1)\n",
    "report = pandas_profiling.ProfileReport(df_sample[['Estación', 'Variable', 'Componente', 'Fecha', 'Valor', 'Ponderación',\n",
    "       'Tipo']])\n",
    "report.to_file(\"../report_eda/report_sda_aerocivil.html\")"
   ]
  },
  {
   "cell_type": "markdown",
   "metadata": {},
   "source": [
    "With the obtained report we observe that:\n",
    "\n",
    "- `Componente` is highly correlated with `Variable`\n",
    "- `Tipo` is highly correlated with `Ponderación`\n",
    "-  The largest number of records of `Variable` is associated with the `Leq` \n",
    "-  There are only two Components: `Noise` and `Meteorology`, the amount of meteorology records is very small\n",
    "-  Although the minimum date is in 2017, most of the information is after May 2019\n",
    "-  0.3% of the records in the `Valor` field are zero."
   ]
  },
  {
   "cell_type": "markdown",
   "metadata": {},
   "source": [
    "***"
   ]
  },
  {
   "cell_type": "markdown",
   "metadata": {},
   "source": [
    "## Duplicates"
   ]
  },
  {
   "cell_type": "markdown",
   "metadata": {},
   "source": [
    "Although we did not find duplicates in the pandas profiling report, we checked directly with the pandas option."
   ]
  },
  {
   "cell_type": "code",
   "execution_count": 4,
   "metadata": {},
   "outputs": [
    {
     "name": "stdout",
     "output_type": "stream",
     "text": [
      "Duplicate Rows : 13361\n",
      "                Estación Variable Componente               Fecha  Valor  \\\n",
      "3999640  CAI 20 de Julio      Leq      Ruido 2019-06-01 00:00:00  63.40   \n",
      "4000014  CAI 20 de Julio     Lmax      Ruido 2019-06-01 01:00:00  77.40   \n",
      "4000352  CAI 20 de Julio     Lmin      Ruido 2019-06-01 02:00:00  39.90   \n",
      "4001768  CAI 20 de Julio     Lmin      Ruido 2019-06-01 06:00:00   9.30   \n",
      "4002798  CAI 20 de Julio     Lmax      Ruido 2019-06-01 09:00:00  83.90   \n",
      "\n",
      "        Ponderación           Tipo  Year    Month  Week  Hour       Day  \\\n",
      "3999640           A            Leq  2019  2019-06    22     0  Saturday   \n",
      "4000014         Lin  1/3 Oct 100Hz  2019  2019-06    22     1  Saturday   \n",
      "4000352         Lin  1/3 Oct 125Hz  2019  2019-06    22     2  Saturday   \n",
      "4001768         Lin  1/3 Oct 16kHz  2019  2019-06    22     6  Saturday   \n",
      "4002798         Lin  1/3 Oct 100Hz  2019  2019-06    22     9  Saturday   \n",
      "\n",
      "        Date_no_hour  Minuto  \n",
      "3999640   2019-06-01       0  \n",
      "4000014   2019-06-01       0  \n",
      "4000352   2019-06-01       0  \n",
      "4001768   2019-06-01       0  \n",
      "4002798   2019-06-01       0  \n"
     ]
    }
   ],
   "source": [
    "# Select duplicate rows except first occurrence based on all columns\n",
    "duplicateRowsDF = source_data_df[source_data_df.duplicated()]\n",
    "\n",
    "if duplicateRowsDF.shape[0] == 0:\n",
    "    print(\"There aren't duplicate records\")\n",
    "else:\n",
    "    print(\"Duplicate Rows :\",duplicateRowsDF.shape[0])\n",
    "    print(duplicateRowsDF.head())"
   ]
  },
  {
   "cell_type": "markdown",
   "metadata": {},
   "source": [
    "We found that there are 13.361 duplicate fields, corresponding to 0.027 % of the information."
   ]
  },
  {
   "cell_type": "markdown",
   "metadata": {},
   "source": [
    "**Remove duplicate information**"
   ]
  },
  {
   "cell_type": "code",
   "execution_count": 5,
   "metadata": {},
   "outputs": [
    {
     "name": "stdout",
     "output_type": "stream",
     "text": [
      "Before: 49279239  Now: 49265878\n",
      "-13361\n"
     ]
    }
   ],
   "source": [
    "# Number of original records\n",
    "length1 = len(source_data_df) \n",
    "\n",
    "# dropping duplicate values \n",
    "source_data_df.drop_duplicates(keep='first',inplace=True) \n",
    "  \n",
    "# Number of records after removing duplicates \n",
    "length2=len(source_data_df) \n",
    "  \n",
    "# Number of records before and after  \n",
    "print('Before:', length1,' Now:', length2)\n",
    "print(length2-length1)"
   ]
  },
  {
   "cell_type": "markdown",
   "metadata": {},
   "source": [
    "**Save file without duplicates**"
   ]
  },
  {
   "cell_type": "code",
   "execution_count": 6,
   "metadata": {},
   "outputs": [],
   "source": [
    "# Save file without duplicates\n",
    "source_data_df.to_csv(\"../data/cleaned_data/clean_sda_aerocivil_date_v1.csv\",sep=';',header= True, encoding='utf-8',index=False)"
   ]
  },
  {
   "cell_type": "code",
   "execution_count": 5,
   "metadata": {},
   "outputs": [
    {
     "data": {
      "text/plain": [
       "Estación                object\n",
       "Variable              category\n",
       "Componente            category\n",
       "Fecha           datetime64[ns]\n",
       "Valor                  float64\n",
       "Ponderación           category\n",
       "Tipo                    object\n",
       "Year                     int64\n",
       "Month                 category\n",
       "Week                     int64\n",
       "Hour                     int64\n",
       "Day                   category\n",
       "Date_no_hour    datetime64[ns]\n",
       "Minuto                   int64\n",
       "dtype: object"
      ]
     },
     "execution_count": 5,
     "metadata": {},
     "output_type": "execute_result"
    }
   ],
   "source": [
    "# Read file with cleanup and transformations\n",
    "source_data_df = pd.read_csv('../data/cleaned_data/clean_sda_aerocivil_date_v1.csv', \n",
    "                             header=0\n",
    "                             , dtype = {'Variable':'category'\n",
    "                                       ,'Componente':'category'\n",
    "                                       ,'Ponderación':'category'\n",
    "                                       ,'Day': 'category'\n",
    "                                       ,'Month':'category'}\n",
    "                             ,parse_dates=['Fecha','Date_no_hour']                                       \n",
    "                             , encoding='utf_8'\n",
    "                             ,sep =';'   )\n",
    "source_data_df.dtypes"
   ]
  },
  {
   "cell_type": "markdown",
   "metadata": {},
   "source": [
    "***"
   ]
  },
  {
   "cell_type": "markdown",
   "metadata": {},
   "source": [
    "## Statistical Summary"
   ]
  },
  {
   "cell_type": "markdown",
   "metadata": {},
   "source": [
    "Using the describe () method we calculate several common aggregates for each column in our dataset, both for numeric fields and for those that are not."
   ]
  },
  {
   "cell_type": "code",
   "execution_count": 18,
   "metadata": {},
   "outputs": [
    {
     "data": {
      "text/html": [
       "<div>\n",
       "<style scoped>\n",
       "    .dataframe tbody tr th:only-of-type {\n",
       "        vertical-align: middle;\n",
       "    }\n",
       "\n",
       "    .dataframe tbody tr th {\n",
       "        vertical-align: top;\n",
       "    }\n",
       "\n",
       "    .dataframe thead th {\n",
       "        text-align: right;\n",
       "    }\n",
       "</style>\n",
       "<table border=\"1\" class=\"dataframe\">\n",
       "  <thead>\n",
       "    <tr style=\"text-align: right;\">\n",
       "      <th></th>\n",
       "      <th>Fecha</th>\n",
       "      <th>Valor</th>\n",
       "      <th>Year</th>\n",
       "      <th>Week</th>\n",
       "      <th>Hour</th>\n",
       "      <th>Date_no_hour</th>\n",
       "    </tr>\n",
       "  </thead>\n",
       "  <tbody>\n",
       "    <tr>\n",
       "      <th>count</th>\n",
       "      <td>49265878</td>\n",
       "      <td>49,265,878.00</td>\n",
       "      <td>49,265,878.00</td>\n",
       "      <td>49,265,878.00</td>\n",
       "      <td>49,265,878.00</td>\n",
       "      <td>49265878</td>\n",
       "    </tr>\n",
       "    <tr>\n",
       "      <th>mean</th>\n",
       "      <td>2020-01-23 00:55:11.487084032</td>\n",
       "      <td>49.89</td>\n",
       "      <td>2,019.58</td>\n",
       "      <td>25.62</td>\n",
       "      <td>11.50</td>\n",
       "      <td>2020-01-22 13:21:36.653992448</td>\n",
       "    </tr>\n",
       "    <tr>\n",
       "      <th>min</th>\n",
       "      <td>2017-06-30 08:00:00</td>\n",
       "      <td>-198,819.00</td>\n",
       "      <td>2,017.00</td>\n",
       "      <td>1.00</td>\n",
       "      <td>0.00</td>\n",
       "      <td>2017-06-30 00:00:00</td>\n",
       "    </tr>\n",
       "    <tr>\n",
       "      <th>25%</th>\n",
       "      <td>2019-10-19 19:00:00</td>\n",
       "      <td>41.20</td>\n",
       "      <td>2,019.00</td>\n",
       "      <td>15.00</td>\n",
       "      <td>6.00</td>\n",
       "      <td>2019-10-19 00:00:00</td>\n",
       "    </tr>\n",
       "    <tr>\n",
       "      <th>50%</th>\n",
       "      <td>2020-02-03 01:00:31</td>\n",
       "      <td>53.30</td>\n",
       "      <td>2,020.00</td>\n",
       "      <td>25.00</td>\n",
       "      <td>11.00</td>\n",
       "      <td>2020-02-03 00:00:00</td>\n",
       "    </tr>\n",
       "    <tr>\n",
       "      <th>75%</th>\n",
       "      <td>2020-05-09 03:00:58</td>\n",
       "      <td>64.00</td>\n",
       "      <td>2,020.00</td>\n",
       "      <td>36.00</td>\n",
       "      <td>17.00</td>\n",
       "      <td>2020-05-09 00:00:00</td>\n",
       "    </tr>\n",
       "    <tr>\n",
       "      <th>max</th>\n",
       "      <td>2020-08-07 23:00:58</td>\n",
       "      <td>19,549.00</td>\n",
       "      <td>2,020.00</td>\n",
       "      <td>52.00</td>\n",
       "      <td>23.00</td>\n",
       "      <td>2020-08-07 00:00:00</td>\n",
       "    </tr>\n",
       "    <tr>\n",
       "      <th>std</th>\n",
       "      <td>NaN</td>\n",
       "      <td>318.82</td>\n",
       "      <td>0.49</td>\n",
       "      <td>13.84</td>\n",
       "      <td>6.93</td>\n",
       "      <td>NaN</td>\n",
       "    </tr>\n",
       "  </tbody>\n",
       "</table>\n",
       "</div>"
      ],
      "text/plain": [
       "                               Fecha         Valor          Year  \\\n",
       "count                       49265878 49,265,878.00 49,265,878.00   \n",
       "mean   2020-01-23 00:55:11.487084032         49.89      2,019.58   \n",
       "min              2017-06-30 08:00:00   -198,819.00      2,017.00   \n",
       "25%              2019-10-19 19:00:00         41.20      2,019.00   \n",
       "50%              2020-02-03 01:00:31         53.30      2,020.00   \n",
       "75%              2020-05-09 03:00:58         64.00      2,020.00   \n",
       "max              2020-08-07 23:00:58     19,549.00      2,020.00   \n",
       "std                              NaN        318.82          0.49   \n",
       "\n",
       "               Week          Hour                   Date_no_hour  \n",
       "count 49,265,878.00 49,265,878.00                       49265878  \n",
       "mean          25.62         11.50  2020-01-22 13:21:36.653992448  \n",
       "min            1.00          0.00            2017-06-30 00:00:00  \n",
       "25%           15.00          6.00            2019-10-19 00:00:00  \n",
       "50%           25.00         11.00            2020-02-03 00:00:00  \n",
       "75%           36.00         17.00            2020-05-09 00:00:00  \n",
       "max           52.00         23.00            2020-08-07 00:00:00  \n",
       "std           13.84          6.93                            NaN  "
      ]
     },
     "execution_count": 18,
     "metadata": {},
     "output_type": "execute_result"
    }
   ],
   "source": [
    "# Numerical Data\n",
    "source_data_df.describe(datetime_is_numeric = True)"
   ]
  },
  {
   "cell_type": "code",
   "execution_count": 16,
   "metadata": {},
   "outputs": [
    {
     "data": {
      "text/html": [
       "<div>\n",
       "<style scoped>\n",
       "    .dataframe tbody tr th:only-of-type {\n",
       "        vertical-align: middle;\n",
       "    }\n",
       "\n",
       "    .dataframe tbody tr th {\n",
       "        vertical-align: top;\n",
       "    }\n",
       "\n",
       "    .dataframe thead th {\n",
       "        text-align: right;\n",
       "    }\n",
       "</style>\n",
       "<table border=\"1\" class=\"dataframe\">\n",
       "  <thead>\n",
       "    <tr style=\"text-align: right;\">\n",
       "      <th></th>\n",
       "      <th>Estación</th>\n",
       "      <th>Variable</th>\n",
       "      <th>Componente</th>\n",
       "      <th>Ponderación</th>\n",
       "      <th>Tipo</th>\n",
       "      <th>Month</th>\n",
       "      <th>Day</th>\n",
       "    </tr>\n",
       "  </thead>\n",
       "  <tbody>\n",
       "    <tr>\n",
       "      <th>count</th>\n",
       "      <td>49265878</td>\n",
       "      <td>49265878</td>\n",
       "      <td>49265878</td>\n",
       "      <td>48910525</td>\n",
       "      <td>48910525</td>\n",
       "      <td>49265878</td>\n",
       "      <td>49265878</td>\n",
       "    </tr>\n",
       "    <tr>\n",
       "      <th>unique</th>\n",
       "      <td>30</td>\n",
       "      <td>12</td>\n",
       "      <td>2</td>\n",
       "      <td>3</td>\n",
       "      <td>40</td>\n",
       "      <td>20</td>\n",
       "      <td>7</td>\n",
       "    </tr>\n",
       "    <tr>\n",
       "      <th>top</th>\n",
       "      <td>CAI Venecia</td>\n",
       "      <td>Leq</td>\n",
       "      <td>Ruido</td>\n",
       "      <td>Lin</td>\n",
       "      <td>Leq</td>\n",
       "      <td>2020-05</td>\n",
       "      <td>Wednesday</td>\n",
       "    </tr>\n",
       "    <tr>\n",
       "      <th>freq</th>\n",
       "      <td>2983373</td>\n",
       "      <td>9811235</td>\n",
       "      <td>48910525</td>\n",
       "      <td>43592319</td>\n",
       "      <td>1747599</td>\n",
       "      <td>4404691</td>\n",
       "      <td>7102002</td>\n",
       "    </tr>\n",
       "  </tbody>\n",
       "</table>\n",
       "</div>"
      ],
      "text/plain": [
       "           Estación  Variable Componente Ponderación      Tipo     Month  \\\n",
       "count      49265878  49265878   49265878    48910525  48910525  49265878   \n",
       "unique           30        12          2           3        40        20   \n",
       "top     CAI Venecia       Leq      Ruido         Lin       Leq   2020-05   \n",
       "freq        2983373   9811235   48910525    43592319   1747599   4404691   \n",
       "\n",
       "              Day  \n",
       "count    49265878  \n",
       "unique          7  \n",
       "top     Wednesday  \n",
       "freq      7102002  "
      ]
     },
     "execution_count": 16,
     "metadata": {},
     "output_type": "execute_result"
    }
   ],
   "source": [
    "# String Data\n",
    "source_data_df.describe(include=['O','category'])"
   ]
  },
  {
   "cell_type": "markdown",
   "metadata": {},
   "source": [
    "After using the describe () method in our dataset, we find the following:\n",
    "- We have 49,265,878 records\n",
    "- The records in column `Valor` have strong outliers.\n",
    "- The average date (`Fecha`) is January 23, 2020.\n",
    "- The station with the highest number of registrations is `CAI Venecia`\n",
    "- The variable with the highest number of records is `Leq`, as in` Tipo`\n",
    "- Noise `Component` is at 99% of data\n",
    "- The most common weighting (`Ponderación`) is `Lin`\n"
   ]
  },
  {
   "cell_type": "markdown",
   "metadata": {},
   "source": [
    "***"
   ]
  },
  {
   "cell_type": "markdown",
   "metadata": {},
   "source": [
    "## Outliers"
   ]
  },
  {
   "cell_type": "markdown",
   "metadata": {},
   "source": [
    "In order to verify the minimum extreme values in the environmental noise component, we seek to identify the cases in which there are a greater number of values less than or equal to zero, based on the premise that the most common variable and type in the records is `Leq` and the values between the interquartile range of the dataset are positive."
   ]
  },
  {
   "cell_type": "code",
   "execution_count": 99,
   "metadata": {},
   "outputs": [
    {
     "name": "stdout",
     "output_type": "stream",
     "text": [
      "Values zero or less: 335895\n",
      "Values zero or less in environmental noise information: 278660\n",
      "Values zero or less in meteorological information: 57235\n"
     ]
    },
    {
     "data": {
      "text/html": [
       "<div>\n",
       "<style scoped>\n",
       "    .dataframe tbody tr th:only-of-type {\n",
       "        vertical-align: middle;\n",
       "    }\n",
       "\n",
       "    .dataframe tbody tr th {\n",
       "        vertical-align: top;\n",
       "    }\n",
       "\n",
       "    .dataframe thead th {\n",
       "        text-align: right;\n",
       "    }\n",
       "</style>\n",
       "<table border=\"1\" class=\"dataframe\">\n",
       "  <thead>\n",
       "    <tr style=\"text-align: right;\">\n",
       "      <th></th>\n",
       "      <th>Componente</th>\n",
       "      <th>Variable</th>\n",
       "      <th>Estación</th>\n",
       "      <th>Tipo</th>\n",
       "      <th>nrows</th>\n",
       "    </tr>\n",
       "  </thead>\n",
       "  <tbody>\n",
       "    <tr>\n",
       "      <th>0</th>\n",
       "      <td>Ruido</td>\n",
       "      <td>Lmax</td>\n",
       "      <td>Estación Monitoreo Ruido Inteligente 7</td>\n",
       "      <td>Impulso</td>\n",
       "      <td>42,711.00</td>\n",
       "    </tr>\n",
       "    <tr>\n",
       "      <th>1</th>\n",
       "      <td>Ruido</td>\n",
       "      <td>Lmin</td>\n",
       "      <td>Estación Monitoreo Ruido Inteligente 7</td>\n",
       "      <td>Impulso</td>\n",
       "      <td>42,710.00</td>\n",
       "    </tr>\n",
       "    <tr>\n",
       "      <th>2</th>\n",
       "      <td>Meteorología</td>\n",
       "      <td>Precipitación</td>\n",
       "      <td>Estación Monitoreo Ruido Inteligente 7</td>\n",
       "      <td>-1</td>\n",
       "      <td>40,088.00</td>\n",
       "    </tr>\n",
       "    <tr>\n",
       "      <th>3</th>\n",
       "      <td>Ruido</td>\n",
       "      <td>Lmax</td>\n",
       "      <td>Estación Monitoreo Ruido Inteligente 13</td>\n",
       "      <td>Impulso</td>\n",
       "      <td>16,601.00</td>\n",
       "    </tr>\n",
       "    <tr>\n",
       "      <th>4</th>\n",
       "      <td>Ruido</td>\n",
       "      <td>Lmin</td>\n",
       "      <td>Estación Monitoreo Ruido Inteligente 13</td>\n",
       "      <td>Impulso</td>\n",
       "      <td>16,601.00</td>\n",
       "    </tr>\n",
       "    <tr>\n",
       "      <th>5</th>\n",
       "      <td>Meteorología</td>\n",
       "      <td>Precipitación</td>\n",
       "      <td>Estación Monitoreo Ruido Inteligente 13</td>\n",
       "      <td>-1</td>\n",
       "      <td>15,965.00</td>\n",
       "    </tr>\n",
       "    <tr>\n",
       "      <th>6</th>\n",
       "      <td>Ruido</td>\n",
       "      <td>Lmax</td>\n",
       "      <td>CAI Villa del Prado</td>\n",
       "      <td>1/3 Oct 125Hz</td>\n",
       "      <td>393.00</td>\n",
       "    </tr>\n",
       "    <tr>\n",
       "      <th>7</th>\n",
       "      <td>Ruido</td>\n",
       "      <td>L10</td>\n",
       "      <td>CAI Villa del Prado</td>\n",
       "      <td>1/3 Oct 250Hz</td>\n",
       "      <td>393.00</td>\n",
       "    </tr>\n",
       "    <tr>\n",
       "      <th>8</th>\n",
       "      <td>Ruido</td>\n",
       "      <td>L10</td>\n",
       "      <td>CAI Villa del Prado</td>\n",
       "      <td>1/3 Oct 63Hz</td>\n",
       "      <td>393.00</td>\n",
       "    </tr>\n",
       "    <tr>\n",
       "      <th>9</th>\n",
       "      <td>Ruido</td>\n",
       "      <td>L10</td>\n",
       "      <td>CAI Villa del Prado</td>\n",
       "      <td>1/3 Oct 50Hz</td>\n",
       "      <td>393.00</td>\n",
       "    </tr>\n",
       "  </tbody>\n",
       "</table>\n",
       "</div>"
      ],
      "text/plain": [
       "     Componente       Variable                                 Estación  \\\n",
       "0         Ruido           Lmax   Estación Monitoreo Ruido Inteligente 7   \n",
       "1         Ruido           Lmin   Estación Monitoreo Ruido Inteligente 7   \n",
       "2  Meteorología  Precipitación   Estación Monitoreo Ruido Inteligente 7   \n",
       "3         Ruido           Lmax  Estación Monitoreo Ruido Inteligente 13   \n",
       "4         Ruido           Lmin  Estación Monitoreo Ruido Inteligente 13   \n",
       "5  Meteorología  Precipitación  Estación Monitoreo Ruido Inteligente 13   \n",
       "6         Ruido           Lmax                      CAI Villa del Prado   \n",
       "7         Ruido            L10                      CAI Villa del Prado   \n",
       "8         Ruido            L10                      CAI Villa del Prado   \n",
       "9         Ruido            L10                      CAI Villa del Prado   \n",
       "\n",
       "            Tipo     nrows  \n",
       "0        Impulso 42,711.00  \n",
       "1        Impulso 42,710.00  \n",
       "2             -1 40,088.00  \n",
       "3        Impulso 16,601.00  \n",
       "4        Impulso 16,601.00  \n",
       "5             -1 15,965.00  \n",
       "6  1/3 Oct 125Hz    393.00  \n",
       "7  1/3 Oct 250Hz    393.00  \n",
       "8   1/3 Oct 63Hz    393.00  \n",
       "9   1/3 Oct 50Hz    393.00  "
      ]
     },
     "execution_count": 99,
     "metadata": {},
     "output_type": "execute_result"
    }
   ],
   "source": [
    "# Identifying values less than or equal to zero\n",
    "print('Values zero or less:',source_data_df[source_data_df['Valor']<=0].shape[0])\n",
    "print('Values zero or less in environmental noise information:',source_data_df[(source_data_df['Valor']<=0) & (source_data_df['Componente']=='Ruido')].shape[0])\n",
    "\n",
    "print('Values zero or less in meteorological information:',source_data_df[(source_data_df['Valor']<=0) & (source_data_df['Componente']=='Meteorología')].shape[0])\n",
    "\n",
    "# Values zero or less\n",
    "df_less_equal_0 = source_data_df[source_data_df['Valor']<=0].fillna(value={'Tipo':'-1'})\n",
    "df_less_equal_0_summary = df_less_equal_0.groupby(['Componente', 'Variable','Estación','Tipo'])[['Fecha']].count()\n",
    "df_less_equal_0_summary = df_less_equal_0_summary[df_less_equal_0_summary['Fecha']>0].sort_values('Fecha',ascending = False).reset_index().rename(columns={'Fecha':'nrows'})\n",
    "df_less_equal_0_summary.head(10)"
   ]
  },
  {
   "cell_type": "code",
   "execution_count": 11,
   "metadata": {},
   "outputs": [
    {
     "name": "stdout",
     "output_type": "stream",
     "text": [
      "% values zero or less in environmental noise information 0.57 %\n",
      "% values zero or less in meteorological information 16.11 %\n"
     ]
    }
   ],
   "source": [
    "print(\"% values zero or less in environmental noise information\",round((278660/48910525)*100,2),\"%\")\n",
    "print(\"% values zero or less in meteorological information\",round(57235/(49265878-48910525)*100,2),\"%\")"
   ]
  },
  {
   "cell_type": "code",
   "execution_count": 101,
   "metadata": {},
   "outputs": [
    {
     "name": "stdout",
     "output_type": "stream",
     "text": [
      "Values less than zero: 200571\n",
      "Values less than zero in environmental noise information: 199189\n",
      "Values less than zero in meteorological information: 1382\n"
     ]
    },
    {
     "data": {
      "text/html": [
       "<div>\n",
       "<style scoped>\n",
       "    .dataframe tbody tr th:only-of-type {\n",
       "        vertical-align: middle;\n",
       "    }\n",
       "\n",
       "    .dataframe tbody tr th {\n",
       "        vertical-align: top;\n",
       "    }\n",
       "\n",
       "    .dataframe thead th {\n",
       "        text-align: right;\n",
       "    }\n",
       "</style>\n",
       "<table border=\"1\" class=\"dataframe\">\n",
       "  <thead>\n",
       "    <tr style=\"text-align: right;\">\n",
       "      <th></th>\n",
       "      <th>Componente</th>\n",
       "      <th>Variable</th>\n",
       "      <th>Estación</th>\n",
       "      <th>Tipo</th>\n",
       "      <th>nrows</th>\n",
       "    </tr>\n",
       "  </thead>\n",
       "  <tbody>\n",
       "    <tr>\n",
       "      <th>0</th>\n",
       "      <td>Ruido</td>\n",
       "      <td>Lmax</td>\n",
       "      <td>Estación Monitoreo Ruido Inteligente 7</td>\n",
       "      <td>Impulso</td>\n",
       "      <td>42,711.00</td>\n",
       "    </tr>\n",
       "    <tr>\n",
       "      <th>1</th>\n",
       "      <td>Ruido</td>\n",
       "      <td>Lmin</td>\n",
       "      <td>Estación Monitoreo Ruido Inteligente 7</td>\n",
       "      <td>Impulso</td>\n",
       "      <td>42,710.00</td>\n",
       "    </tr>\n",
       "    <tr>\n",
       "      <th>2</th>\n",
       "      <td>Ruido</td>\n",
       "      <td>Lmax</td>\n",
       "      <td>Estación Monitoreo Ruido Inteligente 13</td>\n",
       "      <td>Impulso</td>\n",
       "      <td>16,601.00</td>\n",
       "    </tr>\n",
       "    <tr>\n",
       "      <th>3</th>\n",
       "      <td>Ruido</td>\n",
       "      <td>Lmin</td>\n",
       "      <td>Estación Monitoreo Ruido Inteligente 13</td>\n",
       "      <td>Impulso</td>\n",
       "      <td>16,601.00</td>\n",
       "    </tr>\n",
       "    <tr>\n",
       "      <th>4</th>\n",
       "      <td>Ruido</td>\n",
       "      <td>L50</td>\n",
       "      <td>CAI Villa del Prado</td>\n",
       "      <td>1/3 Oct 250Hz</td>\n",
       "      <td>393.00</td>\n",
       "    </tr>\n",
       "    <tr>\n",
       "      <th>5</th>\n",
       "      <td>Ruido</td>\n",
       "      <td>L50</td>\n",
       "      <td>CAI Villa del Prado</td>\n",
       "      <td>1/3 Oct 31.5Hz</td>\n",
       "      <td>393.00</td>\n",
       "    </tr>\n",
       "    <tr>\n",
       "      <th>6</th>\n",
       "      <td>Ruido</td>\n",
       "      <td>L10</td>\n",
       "      <td>CAI Villa del Prado</td>\n",
       "      <td>1/3 Oct 160Hz</td>\n",
       "      <td>393.00</td>\n",
       "    </tr>\n",
       "    <tr>\n",
       "      <th>7</th>\n",
       "      <td>Ruido</td>\n",
       "      <td>L10</td>\n",
       "      <td>CAI Villa del Prado</td>\n",
       "      <td>1/3 Oct 125Hz</td>\n",
       "      <td>393.00</td>\n",
       "    </tr>\n",
       "    <tr>\n",
       "      <th>8</th>\n",
       "      <td>Ruido</td>\n",
       "      <td>L10</td>\n",
       "      <td>CAI Villa del Prado</td>\n",
       "      <td>1/3 Oct 100Hz</td>\n",
       "      <td>393.00</td>\n",
       "    </tr>\n",
       "    <tr>\n",
       "      <th>9</th>\n",
       "      <td>Ruido</td>\n",
       "      <td>L50</td>\n",
       "      <td>CAI Villa del Prado</td>\n",
       "      <td>1/3 Oct 25Hz</td>\n",
       "      <td>393.00</td>\n",
       "    </tr>\n",
       "  </tbody>\n",
       "</table>\n",
       "</div>"
      ],
      "text/plain": [
       "  Componente Variable                                 Estación  \\\n",
       "0      Ruido     Lmax   Estación Monitoreo Ruido Inteligente 7   \n",
       "1      Ruido     Lmin   Estación Monitoreo Ruido Inteligente 7   \n",
       "2      Ruido     Lmax  Estación Monitoreo Ruido Inteligente 13   \n",
       "3      Ruido     Lmin  Estación Monitoreo Ruido Inteligente 13   \n",
       "4      Ruido      L50                      CAI Villa del Prado   \n",
       "5      Ruido      L50                      CAI Villa del Prado   \n",
       "6      Ruido      L10                      CAI Villa del Prado   \n",
       "7      Ruido      L10                      CAI Villa del Prado   \n",
       "8      Ruido      L10                      CAI Villa del Prado   \n",
       "9      Ruido      L50                      CAI Villa del Prado   \n",
       "\n",
       "             Tipo     nrows  \n",
       "0         Impulso 42,711.00  \n",
       "1         Impulso 42,710.00  \n",
       "2         Impulso 16,601.00  \n",
       "3         Impulso 16,601.00  \n",
       "4   1/3 Oct 250Hz    393.00  \n",
       "5  1/3 Oct 31.5Hz    393.00  \n",
       "6   1/3 Oct 160Hz    393.00  \n",
       "7   1/3 Oct 125Hz    393.00  \n",
       "8   1/3 Oct 100Hz    393.00  \n",
       "9    1/3 Oct 25Hz    393.00  "
      ]
     },
     "execution_count": 101,
     "metadata": {},
     "output_type": "execute_result"
    }
   ],
   "source": [
    "# Identifying values less than zero\n",
    "print('Values less than zero:',source_data_df[source_data_df['Valor']<0].shape[0])\n",
    "print('Values less than zero in environmental noise information:',source_data_df[(source_data_df['Valor']<0) & (source_data_df['Componente']=='Ruido')].shape[0])\n",
    "\n",
    "print('Values less than zero in meteorological information:',source_data_df[(source_data_df['Valor']<0) & (source_data_df['Componente']=='Meteorología')].shape[0])\n",
    "\n",
    "# Values less than zero\n",
    "df_less_than_zero = source_data_df[source_data_df['Valor']<0].fillna(value={'Tipo':'-1'})\n",
    "df_less_than_zero_summary = df_less_than_zero.groupby(['Componente', 'Variable','Estación','Tipo'])[['Fecha']].count()\n",
    "df_less_than_zero_summary = df_less_than_zero_summary[df_less_than_zero_summary['Fecha']>0].sort_values('Fecha',ascending = False).reset_index().rename(columns={'Fecha':'nrows'})\n",
    "df_less_than_zero_summary.head(10)"
   ]
  },
  {
   "cell_type": "code",
   "execution_count": 13,
   "metadata": {},
   "outputs": [
    {
     "name": "stdout",
     "output_type": "stream",
     "text": [
      "% Values less than zero in environmental noise information 0.41 %\n",
      "% Values less than zero in meteorological information 0.39 %\n"
     ]
    }
   ],
   "source": [
    "print(\"% Values less than zero in environmental noise information\",round((199189/48910525)*100,2),\"%\")\n",
    "print(\"% Values less than zero in meteorological information\",round(1382/(49265878-48910525)*100,2),\"%\")"
   ]
  },
  {
   "cell_type": "code",
   "execution_count": 102,
   "metadata": {},
   "outputs": [
    {
     "data": {
      "text/html": [
       "<div>\n",
       "<style scoped>\n",
       "    .dataframe tbody tr th:only-of-type {\n",
       "        vertical-align: middle;\n",
       "    }\n",
       "\n",
       "    .dataframe tbody tr th {\n",
       "        vertical-align: top;\n",
       "    }\n",
       "\n",
       "    .dataframe thead th {\n",
       "        text-align: right;\n",
       "    }\n",
       "</style>\n",
       "<table border=\"1\" class=\"dataframe\">\n",
       "  <thead>\n",
       "    <tr style=\"text-align: right;\">\n",
       "      <th></th>\n",
       "      <th>index</th>\n",
       "      <th>Componente</th>\n",
       "      <th>Variable</th>\n",
       "      <th>Estación</th>\n",
       "      <th>Tipo</th>\n",
       "      <th>nrows</th>\n",
       "    </tr>\n",
       "  </thead>\n",
       "  <tbody>\n",
       "    <tr>\n",
       "      <th>270</th>\n",
       "      <td>270</td>\n",
       "      <td>Ruido</td>\n",
       "      <td>Lmin</td>\n",
       "      <td>Estación Monitoreo Ruido Inteligente 7</td>\n",
       "      <td>Leq</td>\n",
       "      <td>66.00</td>\n",
       "    </tr>\n",
       "    <tr>\n",
       "      <th>274</th>\n",
       "      <td>274</td>\n",
       "      <td>Ruido</td>\n",
       "      <td>Lmin</td>\n",
       "      <td>Estación Monitoreo Ruido Inteligente 13</td>\n",
       "      <td>Leq</td>\n",
       "      <td>32.00</td>\n",
       "    </tr>\n",
       "  </tbody>\n",
       "</table>\n",
       "</div>"
      ],
      "text/plain": [
       "     index Componente Variable                                 Estación Tipo  \\\n",
       "270    270      Ruido     Lmin   Estación Monitoreo Ruido Inteligente 7  Leq   \n",
       "274    274      Ruido     Lmin  Estación Monitoreo Ruido Inteligente 13  Leq   \n",
       "\n",
       "     nrows  \n",
       "270  66.00  \n",
       "274  32.00  "
      ]
     },
     "execution_count": 102,
     "metadata": {},
     "output_type": "execute_result"
    }
   ],
   "source": [
    "# Checking values less than zero in environmental noise measurements with the most common type = 'Leq'\n",
    "df_less_than_zero_summary =df_less_than_zero_summary.reset_index()\n",
    "df_less_than_zero_summary[df_less_than_zero_summary['Tipo']== 'Leq']"
   ]
  },
  {
   "cell_type": "markdown",
   "metadata": {},
   "source": [
    "There are very few values with Type 'Leq' with values less than zero, confirming that they are outliers and probably problems in the data record, perhaps due to failures in the sensor equipment."
   ]
  },
  {
   "cell_type": "markdown",
   "metadata": {},
   "source": [
    "***"
   ]
  },
  {
   "cell_type": "markdown",
   "metadata": {},
   "source": [
    "## Information distribution over time"
   ]
  },
  {
   "cell_type": "markdown",
   "metadata": {},
   "source": [
    "In order to identify the period of time for which information is available, we generate the following histograms:"
   ]
  },
  {
   "cell_type": "markdown",
   "metadata": {},
   "source": [
    "**Environmental Noise**"
   ]
  },
  {
   "cell_type": "code",
   "execution_count": 14,
   "metadata": {},
   "outputs": [
    {
     "data": {
      "text/plain": [
       "Text(0.5, 1.0, 'Histogram of environmental noise information available')"
      ]
     },
     "execution_count": 14,
     "metadata": {},
     "output_type": "execute_result"
    },
    {
     "data": {
      "image/png": "[encoded data removed]",
      "text/plain": [
       "<Figure size 1099x288 with 1 Axes>"
      ]
     },
     "metadata": {
      "needs_background": "light"
     },
     "output_type": "display_data"
    }
   ],
   "source": [
    "sns.displot(source_data_df[source_data_df['Componente']== 'Ruido']\n",
    "            , x=\"Date_no_hour\"\n",
    "            , hue=\"Estación\"\n",
    "            ,height=4,aspect=3\n",
    "            , palette=\"tab10\")\n",
    "plt.title(\"Histogram of environmental noise information available\")"
   ]
  },
  {
   "cell_type": "markdown",
   "metadata": {},
   "source": [
    "The available information time window runs from September 2017 to September 2020, however, it is from May 2019 that the highest concentration of environmental noise information is found. Smart noise monitoring stations have a large proportion of noise data but only for a short period of time, while the July 20 station is more constant over time.\n",
    "\n",
    "Recalling that the Cai Villa Nidia stood out for having the lowest minimum date of the data set, we reviewed it and we noticed that our date outlier is there."
   ]
  },
  {
   "cell_type": "code",
   "execution_count": 15,
   "metadata": {},
   "outputs": [
    {
     "data": {
      "text/plain": [
       "Text(0.5, 1.0, 'Histogram of environmental noise information available')"
      ]
     },
     "execution_count": 15,
     "metadata": {},
     "output_type": "execute_result"
    },
    {
     "data": {
      "image/png": "[encoded data removed]",
      "text/plain": [
       "<Figure size 970x288 with 1 Axes>"
      ]
     },
     "metadata": {
      "needs_background": "light"
     },
     "output_type": "display_data"
    }
   ],
   "source": [
    "sns.displot(source_data_df[source_data_df['Estación']== 'CAI Villa Nidia']\n",
    "            , x=\"Date_no_hour\"\n",
    "            , hue=\"Estación\"\n",
    "            ,height=4,aspect=3\n",
    "            , palette=\"tab10\")\n",
    "plt.title(\"Histogram of environmental noise information available\")"
   ]
  },
  {
   "cell_type": "markdown",
   "metadata": {},
   "source": [
    "**Meteorology information available**"
   ]
  },
  {
   "cell_type": "code",
   "execution_count": 16,
   "metadata": {
    "scrolled": false
   },
   "outputs": [
    {
     "data": {
      "text/plain": [
       "Text(0.5, 1.0, 'Histogram Meteorology information available')"
      ]
     },
     "execution_count": 16,
     "metadata": {},
     "output_type": "execute_result"
    },
    {
     "data": {
      "image/png": "[encoded data removed]",
      "text/plain": [
       "<Figure size 1099x216 with 1 Axes>"
      ]
     },
     "metadata": {
      "needs_background": "light"
     },
     "output_type": "display_data"
    }
   ],
   "source": [
    "# Histogram Meteorology information available\n",
    "sns.displot(source_data_df[source_data_df['Componente']== 'Meteorología']\n",
    "            , x=\"Date_no_hour\"\n",
    "            , hue=\"Estación\"\n",
    "            ,height=3\n",
    "            ,aspect=4\n",
    "            , palette=\"tab10\")\n",
    "\n",
    "plt.title(\"Histogram Meteorology information available\")"
   ]
  },
  {
   "cell_type": "markdown",
   "metadata": {},
   "source": [
    "Only two of the stations provide us with meteorological monitoring results, one of them with records for one month (mid-March to mid-April 2020) and the other from April to July of the same year."
   ]
  },
  {
   "cell_type": "markdown",
   "metadata": {},
   "source": [
    "We generate a subset of data with the information from 4 of the stations with the highest number of records, and that have a period of similar dates in the report, we pivot the Type column `Tipo` and observe how the data behaves at the minute level for these monitoring stations."
   ]
  },
  {
   "cell_type": "code",
   "execution_count": 6,
   "metadata": {},
   "outputs": [
    {
     "data": {
      "text/plain": [
       "(10457683, 14)"
      ]
     },
     "execution_count": 6,
     "metadata": {},
     "output_type": "execute_result"
    }
   ],
   "source": [
    "# Generating sample\n",
    "df_sample_noise = source_data_df[source_data_df['Estación'].isin(['CAI Venecia','CAI 20 de Julio','Edificio Marly','CAI Claret'])]\n",
    "df_sample_noise.to_csv(\"../data/cleaned_data/df_sample_noise.csv\",sep=';',header= True, encoding='utf-8',index=False)\n",
    "df_sample_noise.shape"
   ]
  },
  {
   "cell_type": "code",
   "execution_count": 7,
   "metadata": {},
   "outputs": [],
   "source": [
    "# source_data_df =None\n",
    "df_sample_noise = pd.read_csv(\"../data/cleaned_data/df_sample_noise.csv\",sep=';',header= 0, encoding='utf-8')"
   ]
  },
  {
   "cell_type": "code",
   "execution_count": 8,
   "metadata": {},
   "outputs": [],
   "source": [
    "# Pivot sample dataset\n",
    "df_wide = df_sample_noise.pivot_table(index=['Estación', 'Componente','Variable','Fecha'\n",
    "                                             , 'Year', 'Month', 'Day', 'Hour','Minuto'],columns=['Tipo'],values=['Valor'])\n",
    "df_wide = df_wide.reset_index()"
   ]
  },
  {
   "cell_type": "code",
   "execution_count": 11,
   "metadata": {},
   "outputs": [
    {
     "name": "stderr",
     "output_type": "stream",
     "text": [
      "/opt/conda/lib/python3.8/site-packages/pandas/core/generic.py:3887: PerformanceWarning: dropping on a non-lexsorted multi-index without a level parameter may impact performance.\n",
      "  obj = obj._drop_axis(labels, axis, level=level, errors=errors)\n"
     ]
    },
    {
     "data": {
      "image/png": "[encoded data removed]",
      "text/plain": [
       "<Figure size 1080x360 with 1 Axes>"
      ]
     },
     "metadata": {
      "needs_background": "light"
     },
     "output_type": "display_data"
    }
   ],
   "source": [
    "df_wide_group = df_wide.groupby(['Year', 'Month', 'Day', 'Hour','Minuto','Estación','Variable']).count()\n",
    "df_wide_group.iloc[:,:10].plot(figsize=(15,5))\n",
    "plt.xticks(rotation=25)\n",
    "plt.show()"
   ]
  },
  {
   "cell_type": "code",
   "execution_count": 25,
   "metadata": {},
   "outputs": [
    {
     "data": {
      "text/plain": [
       "Year  Month    Day        Hour  Minuto  Estación         Variable\n",
       "2020  2020-05  Friday     0     0       Edificio Marly   L90         13\n",
       "                                                         Lmin        13\n",
       "                                                         L10         13\n",
       "                                                         L50         13\n",
       "                                                         Lmax        13\n",
       "                                                                     ..\n",
       "      2020-02  Friday     14    1       CAI Venecia      Lmin         1\n",
       "                          15    0       CAI Venecia      L50          1\n",
       "                                1       CAI Venecia      L10          1\n",
       "                                                         L50          1\n",
       "2019  2019-04  Wednesday  0     0       CAI 20 de Julio  L10          1\n",
       "Name: Leq, Length: 73282, dtype: int64"
      ]
     },
     "execution_count": 25,
     "metadata": {},
     "output_type": "execute_result"
    }
   ],
   "source": [
    "df_wide_group['Valor']['Leq'].sort_values(ascending =False)"
   ]
  },
  {
   "cell_type": "markdown",
   "metadata": {},
   "source": [
    "In the previous graph you can see the distribution of the number of records per minute from the selected example data, we can see that per minute there may be multiple records of environmental noise, depending on the type, variable and station."
   ]
  },
  {
   "cell_type": "markdown",
   "metadata": {},
   "source": [
    "---------------------------"
   ]
  },
  {
   "cell_type": "markdown",
   "metadata": {},
   "source": [
    "## Missing Values"
   ]
  },
  {
   "cell_type": "markdown",
   "metadata": {},
   "source": [
    "In order to find if there are missing values, we generate an analysis at a long format level and another at a wide format."
   ]
  },
  {
   "cell_type": "code",
   "execution_count": 17,
   "metadata": {},
   "outputs": [
    {
     "data": {
      "text/plain": [
       "Tipo    355353\n",
       "dtype: int64"
      ]
     },
     "execution_count": 17,
     "metadata": {},
     "output_type": "execute_result"
    }
   ],
   "source": [
    "# There are null fields\n",
    "nullRowsDF =  source_data_df.columns[source_data_df.isnull().any()]\n",
    "source_data_df[nullRowsDF].isnull().sum()"
   ]
  },
  {
   "cell_type": "code",
   "execution_count": 24,
   "metadata": {},
   "outputs": [
    {
     "data": {
      "text/html": [
       "<div>\n",
       "<style scoped>\n",
       "    .dataframe tbody tr th:only-of-type {\n",
       "        vertical-align: middle;\n",
       "    }\n",
       "\n",
       "    .dataframe tbody tr th {\n",
       "        vertical-align: top;\n",
       "    }\n",
       "\n",
       "    .dataframe thead th {\n",
       "        text-align: right;\n",
       "    }\n",
       "</style>\n",
       "<table border=\"1\" class=\"dataframe\">\n",
       "  <thead>\n",
       "    <tr style=\"text-align: right;\">\n",
       "      <th></th>\n",
       "      <th>Componente</th>\n",
       "      <th>Variable</th>\n",
       "      <th>Estación</th>\n",
       "      <th>nrows</th>\n",
       "    </tr>\n",
       "  </thead>\n",
       "  <tbody>\n",
       "    <tr>\n",
       "      <th>0</th>\n",
       "      <td>Meteorología</td>\n",
       "      <td>Dirección del Viento</td>\n",
       "      <td>Estación Monitoreo Ruido Inteligente 7</td>\n",
       "      <td>42,664.00</td>\n",
       "    </tr>\n",
       "    <tr>\n",
       "      <th>1</th>\n",
       "      <td>Meteorología</td>\n",
       "      <td>Velocidad del Viento</td>\n",
       "      <td>Estación Monitoreo Ruido Inteligente 7</td>\n",
       "      <td>42,659.00</td>\n",
       "    </tr>\n",
       "    <tr>\n",
       "      <th>2</th>\n",
       "      <td>Meteorología</td>\n",
       "      <td>Presión Atmosférica</td>\n",
       "      <td>Estación Monitoreo Ruido Inteligente 7</td>\n",
       "      <td>42,658.00</td>\n",
       "    </tr>\n",
       "    <tr>\n",
       "      <th>3</th>\n",
       "      <td>Meteorología</td>\n",
       "      <td>Humedad Relativa</td>\n",
       "      <td>Estación Monitoreo Ruido Inteligente 7</td>\n",
       "      <td>42,657.00</td>\n",
       "    </tr>\n",
       "    <tr>\n",
       "      <th>4</th>\n",
       "      <td>Meteorología</td>\n",
       "      <td>Temperatura Ambiente</td>\n",
       "      <td>Estación Monitoreo Ruido Inteligente 7</td>\n",
       "      <td>42,657.00</td>\n",
       "    </tr>\n",
       "    <tr>\n",
       "      <th>5</th>\n",
       "      <td>Meteorología</td>\n",
       "      <td>Precipitación</td>\n",
       "      <td>Estación Monitoreo Ruido Inteligente 7</td>\n",
       "      <td>42,643.00</td>\n",
       "    </tr>\n",
       "    <tr>\n",
       "      <th>6</th>\n",
       "      <td>Meteorología</td>\n",
       "      <td>Humedad Relativa</td>\n",
       "      <td>Estación Monitoreo Ruido Inteligente 13</td>\n",
       "      <td>16,570.00</td>\n",
       "    </tr>\n",
       "    <tr>\n",
       "      <th>7</th>\n",
       "      <td>Meteorología</td>\n",
       "      <td>Precipitación</td>\n",
       "      <td>Estación Monitoreo Ruido Inteligente 13</td>\n",
       "      <td>16,570.00</td>\n",
       "    </tr>\n",
       "    <tr>\n",
       "      <th>8</th>\n",
       "      <td>Meteorología</td>\n",
       "      <td>Presión Atmosférica</td>\n",
       "      <td>Estación Monitoreo Ruido Inteligente 13</td>\n",
       "      <td>16,570.00</td>\n",
       "    </tr>\n",
       "    <tr>\n",
       "      <th>9</th>\n",
       "      <td>Meteorología</td>\n",
       "      <td>Temperatura Ambiente</td>\n",
       "      <td>Estación Monitoreo Ruido Inteligente 13</td>\n",
       "      <td>16,570.00</td>\n",
       "    </tr>\n",
       "    <tr>\n",
       "      <th>10</th>\n",
       "      <td>Meteorología</td>\n",
       "      <td>Velocidad del Viento</td>\n",
       "      <td>Estación Monitoreo Ruido Inteligente 13</td>\n",
       "      <td>16,570.00</td>\n",
       "    </tr>\n",
       "    <tr>\n",
       "      <th>11</th>\n",
       "      <td>Meteorología</td>\n",
       "      <td>Dirección del Viento</td>\n",
       "      <td>Estación Monitoreo Ruido Inteligente 13</td>\n",
       "      <td>16,565.00</td>\n",
       "    </tr>\n",
       "  </tbody>\n",
       "</table>\n",
       "</div>"
      ],
      "text/plain": [
       "      Componente              Variable  \\\n",
       "0   Meteorología  Dirección del Viento   \n",
       "1   Meteorología  Velocidad del Viento   \n",
       "2   Meteorología   Presión Atmosférica   \n",
       "3   Meteorología      Humedad Relativa   \n",
       "4   Meteorología  Temperatura Ambiente   \n",
       "5   Meteorología         Precipitación   \n",
       "6   Meteorología      Humedad Relativa   \n",
       "7   Meteorología         Precipitación   \n",
       "8   Meteorología   Presión Atmosférica   \n",
       "9   Meteorología  Temperatura Ambiente   \n",
       "10  Meteorología  Velocidad del Viento   \n",
       "11  Meteorología  Dirección del Viento   \n",
       "\n",
       "                                   Estación     nrows  \n",
       "0    Estación Monitoreo Ruido Inteligente 7 42,664.00  \n",
       "1    Estación Monitoreo Ruido Inteligente 7 42,659.00  \n",
       "2    Estación Monitoreo Ruido Inteligente 7 42,658.00  \n",
       "3    Estación Monitoreo Ruido Inteligente 7 42,657.00  \n",
       "4    Estación Monitoreo Ruido Inteligente 7 42,657.00  \n",
       "5    Estación Monitoreo Ruido Inteligente 7 42,643.00  \n",
       "6   Estación Monitoreo Ruido Inteligente 13 16,570.00  \n",
       "7   Estación Monitoreo Ruido Inteligente 13 16,570.00  \n",
       "8   Estación Monitoreo Ruido Inteligente 13 16,570.00  \n",
       "9   Estación Monitoreo Ruido Inteligente 13 16,570.00  \n",
       "10  Estación Monitoreo Ruido Inteligente 13 16,570.00  \n",
       "11  Estación Monitoreo Ruido Inteligente 13 16,565.00  "
      ]
     },
     "execution_count": 24,
     "metadata": {},
     "output_type": "execute_result"
    }
   ],
   "source": [
    "# check cases where weight and type appear null\n",
    "df_null_pt = source_data_df[(source_data_df['Ponderación'].isnull()) | (source_data_df['Tipo'].isnull())].groupby(['Componente'\n",
    "                                                                                                      , 'Variable'\n",
    "                                                                                                      ,'Estación'])[['Fecha']].count()\n",
    "df_null_pt = df_null_pt[df_null_pt['Fecha']>0].sort_values('Fecha',ascending = False).reset_index().rename(columns={'Fecha':'nrows'})\n",
    "df_null_pt"
   ]
  },
  {
   "cell_type": "markdown",
   "metadata": {},
   "source": [
    "In the analysis of our long-format dataset, we detected that the missing values in weight and type are part of the meteorological records, and it is understandable since weight and type are exclusive properties of environmental noise measurements.\n",
    "\n",
    "To make a more complete analysis of the missing values, we take the sample of 4 of the stations that report the highest number of records that was previously generated in wide format and using the missing library we can then visualize how the data is."
   ]
  },
  {
   "cell_type": "code",
   "execution_count": 29,
   "metadata": {},
   "outputs": [
    {
     "name": "stdout",
     "output_type": "stream",
     "text": [
      "Missing data visualization\n"
     ]
    },
    {
     "data": {
      "text/plain": [
       "<AxesSubplot:>"
      ]
     },
     "execution_count": 29,
     "metadata": {},
     "output_type": "execute_result"
    },
    {
     "data": {
      "image/png": "[encoded data removed]",
      "text/plain": [
       "<Figure size 1800x720 with 2 Axes>"
      ]
     },
     "metadata": {
      "needs_background": "light"
     },
     "output_type": "display_data"
    }
   ],
   "source": [
    "# Missing data visualization\n",
    "print(\"Missing data visualization\")\n",
    "msno.matrix(df_wide) "
   ]
  },
  {
   "cell_type": "code",
   "execution_count": 30,
   "metadata": {},
   "outputs": [
    {
     "name": "stdout",
     "output_type": "stream",
     "text": [
      "Missing data visualization - Sort\n"
     ]
    },
    {
     "data": {
      "text/plain": [
       "<AxesSubplot:>"
      ]
     },
     "execution_count": 30,
     "metadata": {},
     "output_type": "execute_result"
    },
    {
     "data": {
      "image/png": "[encoded data removed]",
      "text/plain": [
       "<Figure size 1800x720 with 2 Axes>"
      ]
     },
     "metadata": {
      "needs_background": "light"
     },
     "output_type": "display_data"
    }
   ],
   "source": [
    "# Missing data visualization - Sort\n",
    "sorted_data = msno.nullity_sort(df_wide, sort='descending') # or sort='ascending'\n",
    "print(\"Missing data visualization - Sort\")\n",
    "msno.matrix(sorted_data)"
   ]
  },
  {
   "cell_type": "markdown",
   "metadata": {},
   "source": [
    "After analyzing the previous data set we can conclude that the amount of missing values, at least for these stations, is quite low, and the type 'Leq' is that it is more complete."
   ]
  },
  {
   "cell_type": "markdown",
   "metadata": {},
   "source": [
    "***"
   ]
  },
  {
   "cell_type": "markdown",
   "metadata": {},
   "source": [
    "## Cleaning 2"
   ]
  },
  {
   "cell_type": "markdown",
   "metadata": {},
   "source": [
    "**Restrict information period to use**"
   ]
  },
  {
   "cell_type": "markdown",
   "metadata": {},
   "source": [
    "As part of the cleaning of the data, we eliminated the records associated with dates that have very little information, these were identified as those that appear before May 1, 2019."
   ]
  },
  {
   "cell_type": "code",
   "execution_count": 55,
   "metadata": {},
   "outputs": [
    {
     "name": "stdout",
     "output_type": "stream",
     "text": [
      "Before: 49265878  Now: 49258804\n",
      "-7074\n"
     ]
    }
   ],
   "source": [
    "# Number of original records\n",
    "length1 = len(source_data_df) \n",
    "\n",
    "source_data_df = source_data_df[source_data_df['Date_no_hour']>= '2019-05-01']\n",
    "\n",
    "# Number of original records after removing duplicates \n",
    "length2=len(source_data_df) \n",
    "  \n",
    "# Number of records before and after  \n",
    "print('Before:', length1,' Now:', length2)\n",
    "print(length2-length1)"
   ]
  },
  {
   "cell_type": "code",
   "execution_count": 18,
   "metadata": {},
   "outputs": [
    {
     "data": {
      "text/plain": [
       "Text(0.5, 1.0, 'Histogram of environmental noise information available')"
      ]
     },
     "execution_count": 18,
     "metadata": {},
     "output_type": "execute_result"
    },
    {
     "data": {
      "image/png": "[encoded data removed]",
      "text/plain": [
       "<Figure size 1099x288 with 1 Axes>"
      ]
     },
     "metadata": {
      "needs_background": "light"
     },
     "output_type": "display_data"
    }
   ],
   "source": [
    "sns.displot(source_data_df[source_data_df['Componente']== 'Ruido']\n",
    "            , x=\"Date_no_hour\"\n",
    "            , hue=\"Estación\"\n",
    "            ,height=4,aspect=3\n",
    "            , palette=\"tab10\")\n",
    "plt.title(\"Histogram of environmental noise information available\")"
   ]
  },
  {
   "cell_type": "markdown",
   "metadata": {},
   "source": [
    "**Restrict information Type = `Leq`**"
   ]
  },
  {
   "cell_type": "markdown",
   "metadata": {},
   "source": [
    "As we know beforehand, a large amount of our noise data contains the `Leq type`, and, currently, _this variable is used by several countries as the metric of choice to measure the exposure of workers to noise_ [1](https://www.cirrusresearch.co.uk/blog/2015/06/noise-101-what-is-equivalent-continuous-sound-level-leq/), which is why, we generate a special subset of these data to analyze later in the **EDA-Part 2**."
   ]
  },
  {
   "cell_type": "code",
   "execution_count": 112,
   "metadata": {},
   "outputs": [
    {
     "name": "stdout",
     "output_type": "stream",
     "text": [
      "(2101597, 13)\n"
     ]
    }
   ],
   "source": [
    "# Restrict information Type = Leq\n",
    "clean_data_df = source_data_df[(source_data_df['Tipo']=='Leq') | ((source_data_df['Componente']=='Meteorología') ) ]\n",
    "clean_data_df.to_csv(\"../data/cleaned_data/clean_data_tipo_leq.csv\",sep=';',header= True, encoding='utf-8',index=False)\n",
    "print(clean_data_df.shape)"
   ]
  },
  {
   "cell_type": "code",
   "execution_count": 22,
   "metadata": {},
   "outputs": [],
   "source": [
    "clean_data_df = pd.read_csv(\"../data/cleaned_data/clean_data_tipo_leq.csv\",sep=';',header=0, encoding='utf-8',parse_dates=['Fecha','Date_no_hour'] )"
   ]
  },
  {
   "cell_type": "code",
   "execution_count": 23,
   "metadata": {},
   "outputs": [
    {
     "data": {
      "text/plain": [
       "Text(0.5, 1.0, 'Histogram of environmental noise information with Leq type')"
      ]
     },
     "execution_count": 23,
     "metadata": {},
     "output_type": "execute_result"
    },
    {
     "data": {
      "image/png": "[encoded data removed]",
      "text/plain": [
       "<Figure size 1099x288 with 1 Axes>"
      ]
     },
     "metadata": {
      "needs_background": "light"
     },
     "output_type": "display_data"
    }
   ],
   "source": [
    "# Histogram of environmental noise information with Leq type\n",
    "sns.displot(clean_data_df[clean_data_df['Componente']== 'Ruido']\n",
    "            , x=\"Date_no_hour\"\n",
    "            , hue=\"Estación\"\n",
    "            ,height=4,aspect=3\n",
    "            , palette=\"tab10\")\n",
    "plt.title(\"Histogram of environmental noise information with Leq type\")"
   ]
  },
  {
   "cell_type": "markdown",
   "metadata": {},
   "source": [
    "If we focus only on the noise data with Leq type, the stations `Estación Monitoreo Ruido Inteligente 7` and `Estación Monitoreo Ruido Inteligente 13` go from having peaks of 60000 records to a maximum of 12000. Which is a reduction of approximately 77% of the environmental noise data for these stations.\n",
    "\n",
    "***"
   ]
  },
  {
   "cell_type": "markdown",
   "metadata": {},
   "source": [
    "## Data subsets"
   ]
  },
  {
   "cell_type": "markdown",
   "metadata": {},
   "source": [
    "To continue with our data exploration process, we generate subsets of information from the statistical summaries that can be seen below and that will be analyzed in more detail in **EDA-Part2**.\n",
    "\n",
    "Basic statistical summary (mean, minimum, maximum, maximum-minimum variation and median):\n",
    "\n",
    "- [General](#General)\n",
    "- [General by hour and type](#General-by-hour-and-type)\n",
    "- [By Monitoring Station and Time](#By-Monitoring-Station-and-Time)\n",
    "- [By Monitoring Station, Time and Type](#By-Monitoring-Station,-Time-and-Type)\n",
    "- [By Monitoring Station and Day of the week](#By-Monitoring-Station-and-Day-of-the-week)\n",
    "- [By Monitoring Station and Date](#By-Monitoring-Station-and-Date)\n",
    "- [By Monitoring Station, Date and Time](#By-Monitoring-Station,-Date-and-Time)\n"
   ]
  },
  {
   "cell_type": "markdown",
   "metadata": {},
   "source": [
    "### General"
   ]
  },
  {
   "cell_type": "code",
   "execution_count": 15,
   "metadata": {},
   "outputs": [
    {
     "data": {
      "text/html": [
       "<div>\n",
       "<style scoped>\n",
       "    .dataframe tbody tr th:only-of-type {\n",
       "        vertical-align: middle;\n",
       "    }\n",
       "\n",
       "    .dataframe tbody tr th {\n",
       "        vertical-align: top;\n",
       "    }\n",
       "\n",
       "    .dataframe thead th {\n",
       "        text-align: right;\n",
       "    }\n",
       "</style>\n",
       "<table border=\"1\" class=\"dataframe\">\n",
       "  <thead>\n",
       "    <tr style=\"text-align: right;\">\n",
       "      <th></th>\n",
       "      <th>Componente</th>\n",
       "      <th>Variable</th>\n",
       "      <th>Hora</th>\n",
       "      <th>Valor_max</th>\n",
       "      <th>Valor_mean</th>\n",
       "      <th>Valor_median</th>\n",
       "      <th>Valor_min</th>\n",
       "      <th>max-min</th>\n",
       "    </tr>\n",
       "  </thead>\n",
       "  <tbody>\n",
       "    <tr>\n",
       "      <th>0</th>\n",
       "      <td>Meteorología</td>\n",
       "      <td>Dirección del Viento</td>\n",
       "      <td>0</td>\n",
       "      <td>359.00</td>\n",
       "      <td>171.97</td>\n",
       "      <td>120.00</td>\n",
       "      <td>0.00</td>\n",
       "      <td>359.00</td>\n",
       "    </tr>\n",
       "    <tr>\n",
       "      <th>1</th>\n",
       "      <td>Meteorología</td>\n",
       "      <td>Dirección del Viento</td>\n",
       "      <td>1</td>\n",
       "      <td>358.88</td>\n",
       "      <td>175.94</td>\n",
       "      <td>150.56</td>\n",
       "      <td>0.00</td>\n",
       "      <td>358.88</td>\n",
       "    </tr>\n",
       "    <tr>\n",
       "      <th>2</th>\n",
       "      <td>Meteorología</td>\n",
       "      <td>Dirección del Viento</td>\n",
       "      <td>2</td>\n",
       "      <td>358.47</td>\n",
       "      <td>168.79</td>\n",
       "      <td>116.90</td>\n",
       "      <td>0.57</td>\n",
       "      <td>357.90</td>\n",
       "    </tr>\n",
       "    <tr>\n",
       "      <th>3</th>\n",
       "      <td>Meteorología</td>\n",
       "      <td>Dirección del Viento</td>\n",
       "      <td>3</td>\n",
       "      <td>359.00</td>\n",
       "      <td>169.74</td>\n",
       "      <td>102.55</td>\n",
       "      <td>0.00</td>\n",
       "      <td>359.00</td>\n",
       "    </tr>\n",
       "    <tr>\n",
       "      <th>4</th>\n",
       "      <td>Meteorología</td>\n",
       "      <td>Dirección del Viento</td>\n",
       "      <td>4</td>\n",
       "      <td>359.00</td>\n",
       "      <td>153.87</td>\n",
       "      <td>80.96</td>\n",
       "      <td>-0.04</td>\n",
       "      <td>359.04</td>\n",
       "    </tr>\n",
       "  </tbody>\n",
       "</table>\n",
       "</div>"
      ],
      "text/plain": [
       "     Componente              Variable  Hora  Valor_max  Valor_mean  \\\n",
       "0  Meteorología  Dirección del Viento     0     359.00      171.97   \n",
       "1  Meteorología  Dirección del Viento     1     358.88      175.94   \n",
       "2  Meteorología  Dirección del Viento     2     358.47      168.79   \n",
       "3  Meteorología  Dirección del Viento     3     359.00      169.74   \n",
       "4  Meteorología  Dirección del Viento     4     359.00      153.87   \n",
       "\n",
       "   Valor_median  Valor_min  max-min  \n",
       "0        120.00       0.00   359.00  \n",
       "1        150.56       0.00   358.88  \n",
       "2        116.90       0.57   357.90  \n",
       "3        102.55       0.00   359.00  \n",
       "4         80.96      -0.04   359.04  "
      ]
     },
     "execution_count": 15,
     "metadata": {},
     "output_type": "execute_result"
    }
   ],
   "source": [
    "# Create df with hourly value statistics\n",
    "df_allstation_hour = pd.pivot_table(source_data_df, values=['Valor'],\n",
    "                               index=['Componente','Variable','Hour'],\n",
    "                               aggfunc={'Valor': [min, max, np.mean,np.median]})\n",
    "\n",
    "df_allstation_hour.columns = [\"_\".join((j,k)) for j,k in df_allstation_hour.columns]\n",
    "df_allstation_hour = df_allstation_hour.reset_index()\n",
    "\n",
    "# Calculate variation between maximum and minimum value\n",
    "df_allstation_hour['max-min'] = df_allstation_hour['Valor_max']-df_allstation_hour['Valor_min']\n",
    "\n",
    "\n",
    "# Save summary to file\n",
    "df_allstation_hour.rename(columns={'Hour':'Hora'},inplace=True)\n",
    "df_allstation_hour.to_csv(\"../data/cleaned_data/allstation_hour.csv\", sep =';', header =True, index=False, encoding='UTF-8')\n",
    "df_allstation_hour.head()"
   ]
  },
  {
   "cell_type": "markdown",
   "metadata": {},
   "source": [
    "### General by hour and type"
   ]
  },
  {
   "cell_type": "code",
   "execution_count": 14,
   "metadata": {},
   "outputs": [
    {
     "data": {
      "text/html": [
       "<div>\n",
       "<style scoped>\n",
       "    .dataframe tbody tr th:only-of-type {\n",
       "        vertical-align: middle;\n",
       "    }\n",
       "\n",
       "    .dataframe tbody tr th {\n",
       "        vertical-align: top;\n",
       "    }\n",
       "\n",
       "    .dataframe thead th {\n",
       "        text-align: right;\n",
       "    }\n",
       "</style>\n",
       "<table border=\"1\" class=\"dataframe\">\n",
       "  <thead>\n",
       "    <tr style=\"text-align: right;\">\n",
       "      <th></th>\n",
       "      <th>Componente</th>\n",
       "      <th>Variable</th>\n",
       "      <th>Tipo</th>\n",
       "      <th>Hora</th>\n",
       "      <th>Valor_max</th>\n",
       "      <th>Valor_mean</th>\n",
       "      <th>Valor_median</th>\n",
       "      <th>Valor_min</th>\n",
       "      <th>max-min</th>\n",
       "    </tr>\n",
       "  </thead>\n",
       "  <tbody>\n",
       "    <tr>\n",
       "      <th>0</th>\n",
       "      <td>Ruido</td>\n",
       "      <td>L10</td>\n",
       "      <td>1/3 Oct 1.25kHz</td>\n",
       "      <td>0</td>\n",
       "      <td>71.70</td>\n",
       "      <td>51.50</td>\n",
       "      <td>53.00</td>\n",
       "      <td>8.70</td>\n",
       "      <td>63.00</td>\n",
       "    </tr>\n",
       "    <tr>\n",
       "      <th>1</th>\n",
       "      <td>Ruido</td>\n",
       "      <td>L10</td>\n",
       "      <td>1/3 Oct 1.25kHz</td>\n",
       "      <td>1</td>\n",
       "      <td>73.20</td>\n",
       "      <td>49.79</td>\n",
       "      <td>51.30</td>\n",
       "      <td>8.30</td>\n",
       "      <td>64.90</td>\n",
       "    </tr>\n",
       "    <tr>\n",
       "      <th>2</th>\n",
       "      <td>Ruido</td>\n",
       "      <td>L10</td>\n",
       "      <td>1/3 Oct 1.25kHz</td>\n",
       "      <td>2</td>\n",
       "      <td>66.80</td>\n",
       "      <td>50.01</td>\n",
       "      <td>51.20</td>\n",
       "      <td>8.70</td>\n",
       "      <td>58.10</td>\n",
       "    </tr>\n",
       "    <tr>\n",
       "      <th>3</th>\n",
       "      <td>Ruido</td>\n",
       "      <td>L10</td>\n",
       "      <td>1/3 Oct 1.25kHz</td>\n",
       "      <td>3</td>\n",
       "      <td>78.30</td>\n",
       "      <td>50.60</td>\n",
       "      <td>51.50</td>\n",
       "      <td>8.70</td>\n",
       "      <td>69.60</td>\n",
       "    </tr>\n",
       "    <tr>\n",
       "      <th>4</th>\n",
       "      <td>Ruido</td>\n",
       "      <td>L10</td>\n",
       "      <td>1/3 Oct 1.25kHz</td>\n",
       "      <td>4</td>\n",
       "      <td>76.60</td>\n",
       "      <td>53.55</td>\n",
       "      <td>55.80</td>\n",
       "      <td>8.70</td>\n",
       "      <td>67.90</td>\n",
       "    </tr>\n",
       "  </tbody>\n",
       "</table>\n",
       "</div>"
      ],
      "text/plain": [
       "  Componente Variable             Tipo  Hora  Valor_max  Valor_mean  \\\n",
       "0      Ruido      L10  1/3 Oct 1.25kHz     0      71.70       51.50   \n",
       "1      Ruido      L10  1/3 Oct 1.25kHz     1      73.20       49.79   \n",
       "2      Ruido      L10  1/3 Oct 1.25kHz     2      66.80       50.01   \n",
       "3      Ruido      L10  1/3 Oct 1.25kHz     3      78.30       50.60   \n",
       "4      Ruido      L10  1/3 Oct 1.25kHz     4      76.60       53.55   \n",
       "\n",
       "   Valor_median  Valor_min  max-min  \n",
       "0         53.00       8.70    63.00  \n",
       "1         51.30       8.30    64.90  \n",
       "2         51.20       8.70    58.10  \n",
       "3         51.50       8.70    69.60  \n",
       "4         55.80       8.70    67.90  "
      ]
     },
     "execution_count": 14,
     "metadata": {},
     "output_type": "execute_result"
    }
   ],
   "source": [
    "# Create df with hourly value statistics\n",
    "df_allstation_hour_hz = pd.pivot_table(source_data_df, values=['Valor'],\n",
    "                               index=['Componente','Variable','Tipo','Hour'],\n",
    "                               aggfunc={'Valor': [min, max, np.mean,np.median]})\n",
    "\n",
    "df_allstation_hour_hz.columns = [\"_\".join((j,k)) for j,k in df_allstation_hour_hz.columns]\n",
    "df_allstation_hour_hz = df_allstation_hour_hz.reset_index()\n",
    "\n",
    "# Calculate variation between maximum and minimum value\n",
    "df_allstation_hour_hz['max-min'] = df_allstation_hour_hz['Valor_max']-df_allstation_hour_hz['Valor_min']\n",
    "\n",
    "# Save summary to file\n",
    "df_allstation_hour_hz.rename(columns={'Hour':'Hora'},inplace=True)\n",
    "df_allstation_hour_hz.to_csv(\"../data/cleaned_data/allstation_hour_hz.csv\", sep =';', header =True, index=False, encoding='UTF-8')\n",
    "df_allstation_hour_hz.head()"
   ]
  },
  {
   "cell_type": "markdown",
   "metadata": {},
   "source": [
    "### By Monitoring Station and Time"
   ]
  },
  {
   "cell_type": "code",
   "execution_count": 7,
   "metadata": {
    "scrolled": true
   },
   "outputs": [
    {
     "data": {
      "text/html": [
       "<div>\n",
       "<style scoped>\n",
       "    .dataframe tbody tr th:only-of-type {\n",
       "        vertical-align: middle;\n",
       "    }\n",
       "\n",
       "    .dataframe tbody tr th {\n",
       "        vertical-align: top;\n",
       "    }\n",
       "\n",
       "    .dataframe thead th {\n",
       "        text-align: right;\n",
       "    }\n",
       "</style>\n",
       "<table border=\"1\" class=\"dataframe\">\n",
       "  <thead>\n",
       "    <tr style=\"text-align: right;\">\n",
       "      <th></th>\n",
       "      <th>Componente</th>\n",
       "      <th>Estación</th>\n",
       "      <th>Variable</th>\n",
       "      <th>Hora</th>\n",
       "      <th>Valor_max</th>\n",
       "      <th>Valor_mean</th>\n",
       "      <th>Valor_median</th>\n",
       "      <th>Valor_min</th>\n",
       "      <th>max-min</th>\n",
       "      <th>nombre corto</th>\n",
       "      <th>latitud</th>\n",
       "      <th>longitud</th>\n",
       "      <th>altitud</th>\n",
       "      <th>altura suelo</th>\n",
       "      <th>Origen</th>\n",
       "    </tr>\n",
       "  </thead>\n",
       "  <tbody>\n",
       "    <tr>\n",
       "      <th>0</th>\n",
       "      <td>Meteorología</td>\n",
       "      <td>Estación Monitoreo Ruido Inteligente 13</td>\n",
       "      <td>Dirección del Viento</td>\n",
       "      <td>0</td>\n",
       "      <td>359.00</td>\n",
       "      <td>201.64</td>\n",
       "      <td>248.30</td>\n",
       "      <td>0.00</td>\n",
       "      <td>359.00</td>\n",
       "      <td>EMRI 13</td>\n",
       "      <td>4.70</td>\n",
       "      <td>-74.14</td>\n",
       "      <td>0.00</td>\n",
       "      <td>0.00</td>\n",
       "      <td>aerocivil</td>\n",
       "    </tr>\n",
       "    <tr>\n",
       "      <th>1</th>\n",
       "      <td>Meteorología</td>\n",
       "      <td>Estación Monitoreo Ruido Inteligente 13</td>\n",
       "      <td>Dirección del Viento</td>\n",
       "      <td>1</td>\n",
       "      <td>358.62</td>\n",
       "      <td>194.84</td>\n",
       "      <td>253.88</td>\n",
       "      <td>0.40</td>\n",
       "      <td>358.22</td>\n",
       "      <td>EMRI 13</td>\n",
       "      <td>4.70</td>\n",
       "      <td>-74.14</td>\n",
       "      <td>0.00</td>\n",
       "      <td>0.00</td>\n",
       "      <td>aerocivil</td>\n",
       "    </tr>\n",
       "    <tr>\n",
       "      <th>2</th>\n",
       "      <td>Meteorología</td>\n",
       "      <td>Estación Monitoreo Ruido Inteligente 13</td>\n",
       "      <td>Dirección del Viento</td>\n",
       "      <td>2</td>\n",
       "      <td>358.47</td>\n",
       "      <td>173.94</td>\n",
       "      <td>137.14</td>\n",
       "      <td>0.68</td>\n",
       "      <td>357.79</td>\n",
       "      <td>EMRI 13</td>\n",
       "      <td>4.70</td>\n",
       "      <td>-74.14</td>\n",
       "      <td>0.00</td>\n",
       "      <td>0.00</td>\n",
       "      <td>aerocivil</td>\n",
       "    </tr>\n",
       "    <tr>\n",
       "      <th>3</th>\n",
       "      <td>Meteorología</td>\n",
       "      <td>Estación Monitoreo Ruido Inteligente 13</td>\n",
       "      <td>Dirección del Viento</td>\n",
       "      <td>3</td>\n",
       "      <td>359.00</td>\n",
       "      <td>161.55</td>\n",
       "      <td>75.64</td>\n",
       "      <td>0.00</td>\n",
       "      <td>359.00</td>\n",
       "      <td>EMRI 13</td>\n",
       "      <td>4.70</td>\n",
       "      <td>-74.14</td>\n",
       "      <td>0.00</td>\n",
       "      <td>0.00</td>\n",
       "      <td>aerocivil</td>\n",
       "    </tr>\n",
       "    <tr>\n",
       "      <th>4</th>\n",
       "      <td>Meteorología</td>\n",
       "      <td>Estación Monitoreo Ruido Inteligente 13</td>\n",
       "      <td>Dirección del Viento</td>\n",
       "      <td>4</td>\n",
       "      <td>359.00</td>\n",
       "      <td>171.59</td>\n",
       "      <td>108.20</td>\n",
       "      <td>0.34</td>\n",
       "      <td>358.66</td>\n",
       "      <td>EMRI 13</td>\n",
       "      <td>4.70</td>\n",
       "      <td>-74.14</td>\n",
       "      <td>0.00</td>\n",
       "      <td>0.00</td>\n",
       "      <td>aerocivil</td>\n",
       "    </tr>\n",
       "  </tbody>\n",
       "</table>\n",
       "</div>"
      ],
      "text/plain": [
       "     Componente                                 Estación  \\\n",
       "0  Meteorología  Estación Monitoreo Ruido Inteligente 13   \n",
       "1  Meteorología  Estación Monitoreo Ruido Inteligente 13   \n",
       "2  Meteorología  Estación Monitoreo Ruido Inteligente 13   \n",
       "3  Meteorología  Estación Monitoreo Ruido Inteligente 13   \n",
       "4  Meteorología  Estación Monitoreo Ruido Inteligente 13   \n",
       "\n",
       "               Variable  Hora  Valor_max  Valor_mean  Valor_median  Valor_min  \\\n",
       "0  Dirección del Viento     0     359.00      201.64        248.30       0.00   \n",
       "1  Dirección del Viento     1     358.62      194.84        253.88       0.40   \n",
       "2  Dirección del Viento     2     358.47      173.94        137.14       0.68   \n",
       "3  Dirección del Viento     3     359.00      161.55         75.64       0.00   \n",
       "4  Dirección del Viento     4     359.00      171.59        108.20       0.34   \n",
       "\n",
       "   max-min nombre corto  latitud  longitud  altitud  altura suelo     Origen  \n",
       "0   359.00      EMRI 13     4.70    -74.14     0.00          0.00  aerocivil  \n",
       "1   358.22      EMRI 13     4.70    -74.14     0.00          0.00  aerocivil  \n",
       "2   357.79      EMRI 13     4.70    -74.14     0.00          0.00  aerocivil  \n",
       "3   359.00      EMRI 13     4.70    -74.14     0.00          0.00  aerocivil  \n",
       "4   358.66      EMRI 13     4.70    -74.14     0.00          0.00  aerocivil  "
      ]
     },
     "execution_count": 7,
     "metadata": {},
     "output_type": "execute_result"
    }
   ],
   "source": [
    "# Create df with hourly value statistics\n",
    "df_hour_group = pd.pivot_table(source_data_df, values=['Valor'],\n",
    "                               index=['Componente','Estación','Variable','Hour'],\n",
    "                               aggfunc={'Valor': [min, max, np.mean,np.median]})\n",
    "\n",
    "df_hour_group.columns = [\"_\".join((j,k)) for j,k in df_hour_group.columns]\n",
    "df_hour_group = df_hour_group.reset_index()\n",
    "\n",
    "# Calculate variation between maximum and minimum value\n",
    "df_hour_group['max-min'] = df_hour_group['Valor_max']-df_hour_group['Valor_min']\n",
    "\n",
    "# Add geographic location data\n",
    "df_hour_group_lat_long = df_hour_group.merge(lat_long_stations,how ='left', left_on='Estación', right_on='Estación')\n",
    "\n",
    "# Save summary to file\n",
    "df_hour_group_lat_long.rename(columns={'Hour':'Hora'},inplace=True)\n",
    "df_hour_group_lat_long.to_csv(\"../data/cleaned_data/df_group_hora.csv\", sep =';', header =True, index=False, encoding='UTF-8')\n",
    "df_hour_group_lat_long.head()"
   ]
  },
  {
   "cell_type": "markdown",
   "metadata": {},
   "source": [
    "### By Monitoring Station, Time and Type"
   ]
  },
  {
   "cell_type": "code",
   "execution_count": 13,
   "metadata": {},
   "outputs": [
    {
     "data": {
      "text/html": [
       "<div>\n",
       "<style scoped>\n",
       "    .dataframe tbody tr th:only-of-type {\n",
       "        vertical-align: middle;\n",
       "    }\n",
       "\n",
       "    .dataframe tbody tr th {\n",
       "        vertical-align: top;\n",
       "    }\n",
       "\n",
       "    .dataframe thead th {\n",
       "        text-align: right;\n",
       "    }\n",
       "</style>\n",
       "<table border=\"1\" class=\"dataframe\">\n",
       "  <thead>\n",
       "    <tr style=\"text-align: right;\">\n",
       "      <th></th>\n",
       "      <th>Componente</th>\n",
       "      <th>Estación</th>\n",
       "      <th>Variable</th>\n",
       "      <th>Tipo</th>\n",
       "      <th>Hora</th>\n",
       "      <th>Valor_max</th>\n",
       "      <th>Valor_mean</th>\n",
       "      <th>Valor_median</th>\n",
       "      <th>Valor_min</th>\n",
       "      <th>max-min</th>\n",
       "      <th>nombre corto</th>\n",
       "      <th>latitud</th>\n",
       "      <th>longitud</th>\n",
       "      <th>altitud</th>\n",
       "      <th>altura suelo</th>\n",
       "      <th>Origen</th>\n",
       "    </tr>\n",
       "  </thead>\n",
       "  <tbody>\n",
       "    <tr>\n",
       "      <th>0</th>\n",
       "      <td>Ruido</td>\n",
       "      <td>CAI 20 de Julio</td>\n",
       "      <td>L10</td>\n",
       "      <td>1/3 Oct 1.25kHz</td>\n",
       "      <td>0</td>\n",
       "      <td>69.50</td>\n",
       "      <td>50.44</td>\n",
       "      <td>50.50</td>\n",
       "      <td>38.50</td>\n",
       "      <td>31.00</td>\n",
       "      <td>CAI20JUL</td>\n",
       "      <td>4.57</td>\n",
       "      <td>-74.09</td>\n",
       "      <td>nan</td>\n",
       "      <td>nan</td>\n",
       "      <td>SDA</td>\n",
       "    </tr>\n",
       "    <tr>\n",
       "      <th>1</th>\n",
       "      <td>Ruido</td>\n",
       "      <td>CAI 20 de Julio</td>\n",
       "      <td>L10</td>\n",
       "      <td>1/3 Oct 1.25kHz</td>\n",
       "      <td>1</td>\n",
       "      <td>61.70</td>\n",
       "      <td>48.28</td>\n",
       "      <td>48.90</td>\n",
       "      <td>27.60</td>\n",
       "      <td>34.10</td>\n",
       "      <td>CAI20JUL</td>\n",
       "      <td>4.57</td>\n",
       "      <td>-74.09</td>\n",
       "      <td>nan</td>\n",
       "      <td>nan</td>\n",
       "      <td>SDA</td>\n",
       "    </tr>\n",
       "    <tr>\n",
       "      <th>2</th>\n",
       "      <td>Ruido</td>\n",
       "      <td>CAI 20 de Julio</td>\n",
       "      <td>L10</td>\n",
       "      <td>1/3 Oct 1.25kHz</td>\n",
       "      <td>2</td>\n",
       "      <td>61.00</td>\n",
       "      <td>47.94</td>\n",
       "      <td>48.00</td>\n",
       "      <td>33.90</td>\n",
       "      <td>27.10</td>\n",
       "      <td>CAI20JUL</td>\n",
       "      <td>4.57</td>\n",
       "      <td>-74.09</td>\n",
       "      <td>nan</td>\n",
       "      <td>nan</td>\n",
       "      <td>SDA</td>\n",
       "    </tr>\n",
       "    <tr>\n",
       "      <th>3</th>\n",
       "      <td>Ruido</td>\n",
       "      <td>CAI 20 de Julio</td>\n",
       "      <td>L10</td>\n",
       "      <td>1/3 Oct 1.25kHz</td>\n",
       "      <td>3</td>\n",
       "      <td>68.50</td>\n",
       "      <td>47.53</td>\n",
       "      <td>47.70</td>\n",
       "      <td>33.70</td>\n",
       "      <td>34.80</td>\n",
       "      <td>CAI20JUL</td>\n",
       "      <td>4.57</td>\n",
       "      <td>-74.09</td>\n",
       "      <td>nan</td>\n",
       "      <td>nan</td>\n",
       "      <td>SDA</td>\n",
       "    </tr>\n",
       "    <tr>\n",
       "      <th>4</th>\n",
       "      <td>Ruido</td>\n",
       "      <td>CAI 20 de Julio</td>\n",
       "      <td>L10</td>\n",
       "      <td>1/3 Oct 1.25kHz</td>\n",
       "      <td>4</td>\n",
       "      <td>64.80</td>\n",
       "      <td>51.28</td>\n",
       "      <td>50.70</td>\n",
       "      <td>39.90</td>\n",
       "      <td>24.90</td>\n",
       "      <td>CAI20JUL</td>\n",
       "      <td>4.57</td>\n",
       "      <td>-74.09</td>\n",
       "      <td>nan</td>\n",
       "      <td>nan</td>\n",
       "      <td>SDA</td>\n",
       "    </tr>\n",
       "  </tbody>\n",
       "</table>\n",
       "</div>"
      ],
      "text/plain": [
       "  Componente         Estación Variable             Tipo  Hora  Valor_max  \\\n",
       "0      Ruido  CAI 20 de Julio      L10  1/3 Oct 1.25kHz     0      69.50   \n",
       "1      Ruido  CAI 20 de Julio      L10  1/3 Oct 1.25kHz     1      61.70   \n",
       "2      Ruido  CAI 20 de Julio      L10  1/3 Oct 1.25kHz     2      61.00   \n",
       "3      Ruido  CAI 20 de Julio      L10  1/3 Oct 1.25kHz     3      68.50   \n",
       "4      Ruido  CAI 20 de Julio      L10  1/3 Oct 1.25kHz     4      64.80   \n",
       "\n",
       "   Valor_mean  Valor_median  Valor_min  max-min nombre corto  latitud  \\\n",
       "0       50.44         50.50      38.50    31.00     CAI20JUL     4.57   \n",
       "1       48.28         48.90      27.60    34.10     CAI20JUL     4.57   \n",
       "2       47.94         48.00      33.90    27.10     CAI20JUL     4.57   \n",
       "3       47.53         47.70      33.70    34.80     CAI20JUL     4.57   \n",
       "4       51.28         50.70      39.90    24.90     CAI20JUL     4.57   \n",
       "\n",
       "   longitud  altitud  altura suelo Origen  \n",
       "0    -74.09      nan           nan    SDA  \n",
       "1    -74.09      nan           nan    SDA  \n",
       "2    -74.09      nan           nan    SDA  \n",
       "3    -74.09      nan           nan    SDA  \n",
       "4    -74.09      nan           nan    SDA  "
      ]
     },
     "execution_count": 13,
     "metadata": {},
     "output_type": "execute_result"
    }
   ],
   "source": [
    "# Create df By Monitoring Station, Time and Type\n",
    "df_hour_group_hz = pd.pivot_table(source_data_df, values=['Valor'],\n",
    "                               index=['Componente','Estación','Variable','Tipo','Hour'],\n",
    "                               aggfunc={'Valor': [min, max, np.mean,np.median]})\n",
    "\n",
    "df_hour_group_hz.columns = [\"_\".join((j,k)) for j,k in df_hour_group_hz.columns]\n",
    "df_hour_group_hz = df_hour_group_hz.reset_index()\n",
    "\n",
    "# Calculate variation between maximum and minimum value\n",
    "df_hour_group_hz['max-min'] = df_hour_group_hz['Valor_max']-df_hour_group_hz['Valor_min']\n",
    "\n",
    "# Add geographic location data\n",
    "df_hour_group_hz_lat_long = df_hour_group_hz.merge(lat_long_stations,how ='left', left_on='Estación', right_on='Estación')\n",
    "\n",
    "# Save summary to file\n",
    "df_hour_group_hz_lat_long.rename(columns={'Hour':'Hora'},inplace=True)\n",
    "df_hour_group_hz_lat_long.to_csv(\"../data/cleaned_data/df_group_hora_hz.csv\", sep =';', header =True, index=False, encoding='UTF-8')\n",
    "df_hour_group_hz_lat_long.head()"
   ]
  },
  {
   "cell_type": "markdown",
   "metadata": {},
   "source": [
    "### By Monitoring Station and Day of the week"
   ]
  },
  {
   "cell_type": "code",
   "execution_count": 8,
   "metadata": {},
   "outputs": [
    {
     "data": {
      "text/html": [
       "<div>\n",
       "<style scoped>\n",
       "    .dataframe tbody tr th:only-of-type {\n",
       "        vertical-align: middle;\n",
       "    }\n",
       "\n",
       "    .dataframe tbody tr th {\n",
       "        vertical-align: top;\n",
       "    }\n",
       "\n",
       "    .dataframe thead th {\n",
       "        text-align: right;\n",
       "    }\n",
       "</style>\n",
       "<table border=\"1\" class=\"dataframe\">\n",
       "  <thead>\n",
       "    <tr style=\"text-align: right;\">\n",
       "      <th></th>\n",
       "      <th>Componente</th>\n",
       "      <th>Estación</th>\n",
       "      <th>Variable</th>\n",
       "      <th>Dia</th>\n",
       "      <th>Valor_max</th>\n",
       "      <th>Valor_mean</th>\n",
       "      <th>Valor_median</th>\n",
       "      <th>Valor_min</th>\n",
       "      <th>max-min</th>\n",
       "      <th>nombre corto</th>\n",
       "      <th>latitud</th>\n",
       "      <th>longitud</th>\n",
       "      <th>altitud</th>\n",
       "      <th>altura suelo</th>\n",
       "      <th>Origen</th>\n",
       "    </tr>\n",
       "  </thead>\n",
       "  <tbody>\n",
       "    <tr>\n",
       "      <th>0</th>\n",
       "      <td>Meteorología</td>\n",
       "      <td>Estación Monitoreo Ruido Inteligente 13</td>\n",
       "      <td>Dirección del Viento</td>\n",
       "      <td>Friday</td>\n",
       "      <td>358.59</td>\n",
       "      <td>209.04</td>\n",
       "      <td>271.12</td>\n",
       "      <td>-43.97</td>\n",
       "      <td>402.56</td>\n",
       "      <td>EMRI 13</td>\n",
       "      <td>4.70</td>\n",
       "      <td>-74.14</td>\n",
       "      <td>0.00</td>\n",
       "      <td>0.00</td>\n",
       "      <td>aerocivil</td>\n",
       "    </tr>\n",
       "    <tr>\n",
       "      <th>1</th>\n",
       "      <td>Meteorología</td>\n",
       "      <td>Estación Monitoreo Ruido Inteligente 13</td>\n",
       "      <td>Dirección del Viento</td>\n",
       "      <td>Saturday</td>\n",
       "      <td>359.00</td>\n",
       "      <td>192.70</td>\n",
       "      <td>243.49</td>\n",
       "      <td>0.00</td>\n",
       "      <td>359.00</td>\n",
       "      <td>EMRI 13</td>\n",
       "      <td>4.70</td>\n",
       "      <td>-74.14</td>\n",
       "      <td>0.00</td>\n",
       "      <td>0.00</td>\n",
       "      <td>aerocivil</td>\n",
       "    </tr>\n",
       "  </tbody>\n",
       "</table>\n",
       "</div>"
      ],
      "text/plain": [
       "     Componente                                 Estación  \\\n",
       "0  Meteorología  Estación Monitoreo Ruido Inteligente 13   \n",
       "1  Meteorología  Estación Monitoreo Ruido Inteligente 13   \n",
       "\n",
       "               Variable       Dia  Valor_max  Valor_mean  Valor_median  \\\n",
       "0  Dirección del Viento    Friday     358.59      209.04        271.12   \n",
       "1  Dirección del Viento  Saturday     359.00      192.70        243.49   \n",
       "\n",
       "   Valor_min  max-min nombre corto  latitud  longitud  altitud  altura suelo  \\\n",
       "0     -43.97   402.56      EMRI 13     4.70    -74.14     0.00          0.00   \n",
       "1       0.00   359.00      EMRI 13     4.70    -74.14     0.00          0.00   \n",
       "\n",
       "      Origen  \n",
       "0  aerocivil  \n",
       "1  aerocivil  "
      ]
     },
     "execution_count": 8,
     "metadata": {},
     "output_type": "execute_result"
    }
   ],
   "source": [
    "# Create df with statistics by day of the week\n",
    "df_day_group = pd.pivot_table(source_data_df, values=['Valor'],\n",
    "                               index=['Componente','Estación','Variable','Day'],\n",
    "                               aggfunc={'Valor': [min, max, np.mean,np.median]})\n",
    "\n",
    "df_day_group.columns = [\"_\".join((j,k)) for j,k in df_day_group.columns]\n",
    "df_day_group = df_day_group.reset_index()\n",
    "\n",
    "# Calculate variation between maximum and minimum value\n",
    "df_day_group['max-min'] = df_day_group['Valor_max']-df_day_group['Valor_min']\n",
    "\n",
    "# Add geographic location data\n",
    "df_day_group_lat_long = df_day_group.merge(lat_long_stations,how ='left', left_on='Estación', right_on='Estación')\n",
    "\n",
    "# Save summary to file\n",
    "df_day_group_lat_long.rename(columns={'Day':'Dia'},inplace=True)\n",
    "df_day_group_lat_long.to_csv(\"../data/cleaned_data/df_group_dia.csv\", sep =';', header =True, index=False, encoding='UTF-8')\n",
    "df_day_group_lat_long.head(2)"
   ]
  },
  {
   "cell_type": "markdown",
   "metadata": {},
   "source": [
    "### By Monitoring Station and Date"
   ]
  },
  {
   "cell_type": "code",
   "execution_count": 9,
   "metadata": {},
   "outputs": [
    {
     "data": {
      "text/html": [
       "<div>\n",
       "<style scoped>\n",
       "    .dataframe tbody tr th:only-of-type {\n",
       "        vertical-align: middle;\n",
       "    }\n",
       "\n",
       "    .dataframe tbody tr th {\n",
       "        vertical-align: top;\n",
       "    }\n",
       "\n",
       "    .dataframe thead th {\n",
       "        text-align: right;\n",
       "    }\n",
       "</style>\n",
       "<table border=\"1\" class=\"dataframe\">\n",
       "  <thead>\n",
       "    <tr style=\"text-align: right;\">\n",
       "      <th></th>\n",
       "      <th>Componente</th>\n",
       "      <th>Estación</th>\n",
       "      <th>Variable</th>\n",
       "      <th>Date_no_hour</th>\n",
       "      <th>Valor_max</th>\n",
       "      <th>Valor_mean</th>\n",
       "      <th>Valor_median</th>\n",
       "      <th>Valor_min</th>\n",
       "      <th>max-min</th>\n",
       "      <th>nombre corto</th>\n",
       "      <th>latitud</th>\n",
       "      <th>longitud</th>\n",
       "      <th>altitud</th>\n",
       "      <th>altura suelo</th>\n",
       "      <th>Origen</th>\n",
       "    </tr>\n",
       "  </thead>\n",
       "  <tbody>\n",
       "    <tr>\n",
       "      <th>0</th>\n",
       "      <td>Meteorología</td>\n",
       "      <td>Estación Monitoreo Ruido Inteligente 13</td>\n",
       "      <td>Dirección del Viento</td>\n",
       "      <td>2020-03-12</td>\n",
       "      <td>354.19</td>\n",
       "      <td>210.89</td>\n",
       "      <td>259.00</td>\n",
       "      <td>7.91</td>\n",
       "      <td>346.28</td>\n",
       "      <td>EMRI 13</td>\n",
       "      <td>4.70</td>\n",
       "      <td>-74.14</td>\n",
       "      <td>0.00</td>\n",
       "      <td>0.00</td>\n",
       "      <td>aerocivil</td>\n",
       "    </tr>\n",
       "    <tr>\n",
       "      <th>1</th>\n",
       "      <td>Meteorología</td>\n",
       "      <td>Estación Monitoreo Ruido Inteligente 13</td>\n",
       "      <td>Dirección del Viento</td>\n",
       "      <td>2020-03-13</td>\n",
       "      <td>358.40</td>\n",
       "      <td>246.60</td>\n",
       "      <td>278.81</td>\n",
       "      <td>0.73</td>\n",
       "      <td>357.67</td>\n",
       "      <td>EMRI 13</td>\n",
       "      <td>4.70</td>\n",
       "      <td>-74.14</td>\n",
       "      <td>0.00</td>\n",
       "      <td>0.00</td>\n",
       "      <td>aerocivil</td>\n",
       "    </tr>\n",
       "    <tr>\n",
       "      <th>2</th>\n",
       "      <td>Meteorología</td>\n",
       "      <td>Estación Monitoreo Ruido Inteligente 13</td>\n",
       "      <td>Dirección del Viento</td>\n",
       "      <td>2020-03-14</td>\n",
       "      <td>357.71</td>\n",
       "      <td>223.65</td>\n",
       "      <td>253.58</td>\n",
       "      <td>2.63</td>\n",
       "      <td>355.08</td>\n",
       "      <td>EMRI 13</td>\n",
       "      <td>4.70</td>\n",
       "      <td>-74.14</td>\n",
       "      <td>0.00</td>\n",
       "      <td>0.00</td>\n",
       "      <td>aerocivil</td>\n",
       "    </tr>\n",
       "    <tr>\n",
       "      <th>3</th>\n",
       "      <td>Meteorología</td>\n",
       "      <td>Estación Monitoreo Ruido Inteligente 13</td>\n",
       "      <td>Dirección del Viento</td>\n",
       "      <td>2020-03-15</td>\n",
       "      <td>358.65</td>\n",
       "      <td>195.46</td>\n",
       "      <td>257.62</td>\n",
       "      <td>0.00</td>\n",
       "      <td>358.65</td>\n",
       "      <td>EMRI 13</td>\n",
       "      <td>4.70</td>\n",
       "      <td>-74.14</td>\n",
       "      <td>0.00</td>\n",
       "      <td>0.00</td>\n",
       "      <td>aerocivil</td>\n",
       "    </tr>\n",
       "    <tr>\n",
       "      <th>4</th>\n",
       "      <td>Meteorología</td>\n",
       "      <td>Estación Monitoreo Ruido Inteligente 13</td>\n",
       "      <td>Dirección del Viento</td>\n",
       "      <td>2020-03-16</td>\n",
       "      <td>356.75</td>\n",
       "      <td>206.70</td>\n",
       "      <td>274.18</td>\n",
       "      <td>0.94</td>\n",
       "      <td>355.81</td>\n",
       "      <td>EMRI 13</td>\n",
       "      <td>4.70</td>\n",
       "      <td>-74.14</td>\n",
       "      <td>0.00</td>\n",
       "      <td>0.00</td>\n",
       "      <td>aerocivil</td>\n",
       "    </tr>\n",
       "  </tbody>\n",
       "</table>\n",
       "</div>"
      ],
      "text/plain": [
       "     Componente                                 Estación  \\\n",
       "0  Meteorología  Estación Monitoreo Ruido Inteligente 13   \n",
       "1  Meteorología  Estación Monitoreo Ruido Inteligente 13   \n",
       "2  Meteorología  Estación Monitoreo Ruido Inteligente 13   \n",
       "3  Meteorología  Estación Monitoreo Ruido Inteligente 13   \n",
       "4  Meteorología  Estación Monitoreo Ruido Inteligente 13   \n",
       "\n",
       "               Variable Date_no_hour  Valor_max  Valor_mean  Valor_median  \\\n",
       "0  Dirección del Viento   2020-03-12     354.19      210.89        259.00   \n",
       "1  Dirección del Viento   2020-03-13     358.40      246.60        278.81   \n",
       "2  Dirección del Viento   2020-03-14     357.71      223.65        253.58   \n",
       "3  Dirección del Viento   2020-03-15     358.65      195.46        257.62   \n",
       "4  Dirección del Viento   2020-03-16     356.75      206.70        274.18   \n",
       "\n",
       "   Valor_min  max-min nombre corto  latitud  longitud  altitud  altura suelo  \\\n",
       "0       7.91   346.28      EMRI 13     4.70    -74.14     0.00          0.00   \n",
       "1       0.73   357.67      EMRI 13     4.70    -74.14     0.00          0.00   \n",
       "2       2.63   355.08      EMRI 13     4.70    -74.14     0.00          0.00   \n",
       "3       0.00   358.65      EMRI 13     4.70    -74.14     0.00          0.00   \n",
       "4       0.94   355.81      EMRI 13     4.70    -74.14     0.00          0.00   \n",
       "\n",
       "      Origen  \n",
       "0  aerocivil  \n",
       "1  aerocivil  \n",
       "2  aerocivil  \n",
       "3  aerocivil  \n",
       "4  aerocivil  "
      ]
     },
     "execution_count": 9,
     "metadata": {},
     "output_type": "execute_result"
    }
   ],
   "source": [
    "# Create df with statistics by date of the week\n",
    "df_date_group = pd.pivot_table(source_data_df, values=['Valor'],\n",
    "                               index=['Componente','Estación','Variable','Date_no_hour'],\n",
    "                               aggfunc={'Valor': [min, max, np.mean,np.median]})\n",
    "\n",
    "df_date_group.columns = [\"_\".join((j,k)) for j,k in df_date_group.columns]\n",
    "df_date_group = df_date_group.reset_index()\n",
    "\n",
    "# Calculate variation between maximum and minimum value\n",
    "df_date_group['max-min'] = df_date_group['Valor_max']-df_date_group['Valor_min']\n",
    "\n",
    "# Add geographic location data\n",
    "df_date_group_lat_long = df_date_group.merge(lat_long_stations,how ='left', left_on='Estación', right_on='Estación')\n",
    "\n",
    "# Save summary to file\n",
    "# df_date_group_lat_long.rename(columns={'Date_no_hour':'Fecha_Dia'},inplace=True)\n",
    "df_date_group_lat_long.to_csv(\"../data/cleaned_data/df_group_fecha.csv\", sep =';', header =True, index=False, encoding='UTF-8')\n",
    "df_date_group_lat_long.head()"
   ]
  },
  {
   "cell_type": "markdown",
   "metadata": {},
   "source": [
    "### By Monitoring Station, Date and Time"
   ]
  },
  {
   "cell_type": "code",
   "execution_count": 11,
   "metadata": {},
   "outputs": [
    {
     "data": {
      "text/html": [
       "<div>\n",
       "<style scoped>\n",
       "    .dataframe tbody tr th:only-of-type {\n",
       "        vertical-align: middle;\n",
       "    }\n",
       "\n",
       "    .dataframe tbody tr th {\n",
       "        vertical-align: top;\n",
       "    }\n",
       "\n",
       "    .dataframe thead th {\n",
       "        text-align: right;\n",
       "    }\n",
       "</style>\n",
       "<table border=\"1\" class=\"dataframe\">\n",
       "  <thead>\n",
       "    <tr style=\"text-align: right;\">\n",
       "      <th></th>\n",
       "      <th>Componente</th>\n",
       "      <th>Estación</th>\n",
       "      <th>Variable</th>\n",
       "      <th>Date_no_hour</th>\n",
       "      <th>Hora</th>\n",
       "      <th>Valor_max</th>\n",
       "      <th>Valor_mean</th>\n",
       "      <th>Valor_median</th>\n",
       "      <th>Valor_min</th>\n",
       "      <th>max-min</th>\n",
       "      <th>nombre corto</th>\n",
       "      <th>latitud</th>\n",
       "      <th>longitud</th>\n",
       "      <th>altitud</th>\n",
       "      <th>altura suelo</th>\n",
       "      <th>Origen</th>\n",
       "    </tr>\n",
       "  </thead>\n",
       "  <tbody>\n",
       "    <tr>\n",
       "      <th>0</th>\n",
       "      <td>Meteorología</td>\n",
       "      <td>Estación Monitoreo Ruido Inteligente 13</td>\n",
       "      <td>Dirección del Viento</td>\n",
       "      <td>2020-03-12</td>\n",
       "      <td>15</td>\n",
       "      <td>266.00</td>\n",
       "      <td>264.34</td>\n",
       "      <td>265.37</td>\n",
       "      <td>260.93</td>\n",
       "      <td>5.07</td>\n",
       "      <td>EMRI 13</td>\n",
       "      <td>4.70</td>\n",
       "      <td>-74.14</td>\n",
       "      <td>0.00</td>\n",
       "      <td>0.00</td>\n",
       "      <td>aerocivil</td>\n",
       "    </tr>\n",
       "    <tr>\n",
       "      <th>1</th>\n",
       "      <td>Meteorología</td>\n",
       "      <td>Estación Monitoreo Ruido Inteligente 13</td>\n",
       "      <td>Dirección del Viento</td>\n",
       "      <td>2020-03-12</td>\n",
       "      <td>16</td>\n",
       "      <td>268.00</td>\n",
       "      <td>261.43</td>\n",
       "      <td>261.75</td>\n",
       "      <td>256.23</td>\n",
       "      <td>11.77</td>\n",
       "      <td>EMRI 13</td>\n",
       "      <td>4.70</td>\n",
       "      <td>-74.14</td>\n",
       "      <td>0.00</td>\n",
       "      <td>0.00</td>\n",
       "      <td>aerocivil</td>\n",
       "    </tr>\n",
       "    <tr>\n",
       "      <th>2</th>\n",
       "      <td>Meteorología</td>\n",
       "      <td>Estación Monitoreo Ruido Inteligente 13</td>\n",
       "      <td>Dirección del Viento</td>\n",
       "      <td>2020-03-12</td>\n",
       "      <td>17</td>\n",
       "      <td>264.30</td>\n",
       "      <td>258.18</td>\n",
       "      <td>257.23</td>\n",
       "      <td>255.00</td>\n",
       "      <td>9.30</td>\n",
       "      <td>EMRI 13</td>\n",
       "      <td>4.70</td>\n",
       "      <td>-74.14</td>\n",
       "      <td>0.00</td>\n",
       "      <td>0.00</td>\n",
       "      <td>aerocivil</td>\n",
       "    </tr>\n",
       "    <tr>\n",
       "      <th>3</th>\n",
       "      <td>Meteorología</td>\n",
       "      <td>Estación Monitoreo Ruido Inteligente 13</td>\n",
       "      <td>Dirección del Viento</td>\n",
       "      <td>2020-03-12</td>\n",
       "      <td>18</td>\n",
       "      <td>281.64</td>\n",
       "      <td>268.11</td>\n",
       "      <td>265.07</td>\n",
       "      <td>261.60</td>\n",
       "      <td>20.04</td>\n",
       "      <td>EMRI 13</td>\n",
       "      <td>4.70</td>\n",
       "      <td>-74.14</td>\n",
       "      <td>0.00</td>\n",
       "      <td>0.00</td>\n",
       "      <td>aerocivil</td>\n",
       "    </tr>\n",
       "    <tr>\n",
       "      <th>4</th>\n",
       "      <td>Meteorología</td>\n",
       "      <td>Estación Monitoreo Ruido Inteligente 13</td>\n",
       "      <td>Dirección del Viento</td>\n",
       "      <td>2020-03-12</td>\n",
       "      <td>19</td>\n",
       "      <td>291.30</td>\n",
       "      <td>281.09</td>\n",
       "      <td>286.03</td>\n",
       "      <td>253.76</td>\n",
       "      <td>37.55</td>\n",
       "      <td>EMRI 13</td>\n",
       "      <td>4.70</td>\n",
       "      <td>-74.14</td>\n",
       "      <td>0.00</td>\n",
       "      <td>0.00</td>\n",
       "      <td>aerocivil</td>\n",
       "    </tr>\n",
       "  </tbody>\n",
       "</table>\n",
       "</div>"
      ],
      "text/plain": [
       "     Componente                                 Estación  \\\n",
       "0  Meteorología  Estación Monitoreo Ruido Inteligente 13   \n",
       "1  Meteorología  Estación Monitoreo Ruido Inteligente 13   \n",
       "2  Meteorología  Estación Monitoreo Ruido Inteligente 13   \n",
       "3  Meteorología  Estación Monitoreo Ruido Inteligente 13   \n",
       "4  Meteorología  Estación Monitoreo Ruido Inteligente 13   \n",
       "\n",
       "               Variable Date_no_hour  Hora  Valor_max  Valor_mean  \\\n",
       "0  Dirección del Viento   2020-03-12    15     266.00      264.34   \n",
       "1  Dirección del Viento   2020-03-12    16     268.00      261.43   \n",
       "2  Dirección del Viento   2020-03-12    17     264.30      258.18   \n",
       "3  Dirección del Viento   2020-03-12    18     281.64      268.11   \n",
       "4  Dirección del Viento   2020-03-12    19     291.30      281.09   \n",
       "\n",
       "   Valor_median  Valor_min  max-min nombre corto  latitud  longitud  altitud  \\\n",
       "0        265.37     260.93     5.07      EMRI 13     4.70    -74.14     0.00   \n",
       "1        261.75     256.23    11.77      EMRI 13     4.70    -74.14     0.00   \n",
       "2        257.23     255.00     9.30      EMRI 13     4.70    -74.14     0.00   \n",
       "3        265.07     261.60    20.04      EMRI 13     4.70    -74.14     0.00   \n",
       "4        286.03     253.76    37.55      EMRI 13     4.70    -74.14     0.00   \n",
       "\n",
       "   altura suelo     Origen  \n",
       "0          0.00  aerocivil  \n",
       "1          0.00  aerocivil  \n",
       "2          0.00  aerocivil  \n",
       "3          0.00  aerocivil  \n",
       "4          0.00  aerocivil  "
      ]
     },
     "execution_count": 11,
     "metadata": {},
     "output_type": "execute_result"
    }
   ],
   "source": [
    "# Create df with statistics by date of the week\n",
    "df_date_hour_group = pd.pivot_table(source_data_df, values=['Valor'],\n",
    "                               index=['Componente','Estación','Variable','Date_no_hour','Hour'],\n",
    "                               aggfunc={'Valor': [min, max, np.mean,np.median]})\n",
    "\n",
    "df_date_hour_group.columns = [\"_\".join((j,k)) for j,k in df_date_hour_group.columns]\n",
    "df_date_hour_group = df_date_hour_group.reset_index()\n",
    "\n",
    "# Calculate variation between maximum and minimum value\n",
    "df_date_hour_group['max-min'] = df_date_hour_group['Valor_max']-df_date_hour_group['Valor_min']\n",
    "\n",
    "# Agregar datos de ubicación geografica\n",
    "df_date_hour_group_lat_long = df_date_hour_group.merge(lat_long_stations,how ='left', left_on='Estación', right_on='Estación')\n",
    "\n",
    "# Save summary to file\n",
    "df_date_hour_group_lat_long.rename(columns={'Hour':'Hora'},inplace=True)\n",
    "df_date_hour_group_lat_long.to_csv(\"../data/cleaned_data/df_group_fecha_hora.csv\", sep =';', header =True, index=False, encoding='UTF-8')\n",
    "df_date_hour_group_lat_long.head()"
   ]
  }
 ],
 "metadata": {
  "kernelspec": {
   "display_name": "Python 3",
   "language": "python",
   "name": "python3"
  },
  "language_info": {
   "codemirror_mode": {
    "name": "ipython",
    "version": 3
   },
   "file_extension": ".py",
   "mimetype": "text/x-python",
   "name": "python",
   "nbconvert_exporter": "python",
   "pygments_lexer": "ipython3",
   "version": "3.8.3"
  }
 },
 "nbformat": 4,
 "nbformat_minor": 4
}
